{
 "cells": [
  {
   "cell_type": "markdown",
   "id": "d7f26006",
   "metadata": {
    "papermill": {
     "duration": 0.005048,
     "end_time": "2023-07-14T10:59:55.686384",
     "exception": false,
     "start_time": "2023-07-14T10:59:55.681336",
     "status": "completed"
    },
    "tags": []
   },
   "source": [
    "# Part C: Using a DNN to Estimate Area Of Future Fires\n"
   ]
  },
  {
   "cell_type": "code",
   "execution_count": 1,
   "id": "ddd905c6",
   "metadata": {
    "execution": {
     "iopub.execute_input": "2023-07-14T10:59:55.697691Z",
     "iopub.status.busy": "2023-07-14T10:59:55.696691Z",
     "iopub.status.idle": "2023-07-14T10:59:55.772007Z",
     "shell.execute_reply": "2023-07-14T10:59:55.771157Z"
    },
    "papermill": {
     "duration": 0.083479,
     "end_time": "2023-07-14T10:59:55.774497",
     "exception": false,
     "start_time": "2023-07-14T10:59:55.691018",
     "status": "completed"
    },
    "tags": []
   },
   "outputs": [
    {
     "data": {
      "text/html": [
       "<div>\n",
       "<style scoped>\n",
       "    .dataframe tbody tr th:only-of-type {\n",
       "        vertical-align: middle;\n",
       "    }\n",
       "\n",
       "    .dataframe tbody tr th {\n",
       "        vertical-align: top;\n",
       "    }\n",
       "\n",
       "    .dataframe thead th {\n",
       "        text-align: right;\n",
       "    }\n",
       "</style>\n",
       "<table border=\"1\" class=\"dataframe\">\n",
       "  <thead>\n",
       "    <tr style=\"text-align: right;\">\n",
       "      <th></th>\n",
       "      <th>acq_date</th>\n",
       "      <th>fires</th>\n",
       "      <th>frp</th>\n",
       "      <th>scan</th>\n",
       "      <th>brightness</th>\n",
       "      <th>max_t_syd</th>\n",
       "      <th>max_t_bne</th>\n",
       "    </tr>\n",
       "  </thead>\n",
       "  <tbody>\n",
       "    <tr>\n",
       "      <th>0.0</th>\n",
       "      <td>2000-11-01</td>\n",
       "      <td>104.0</td>\n",
       "      <td>17572.6</td>\n",
       "      <td>195.4</td>\n",
       "      <td>357.982692</td>\n",
       "      <td>22.8</td>\n",
       "      <td>27.0</td>\n",
       "    </tr>\n",
       "    <tr>\n",
       "      <th>1.0</th>\n",
       "      <td>2000-11-02</td>\n",
       "      <td>211.0</td>\n",
       "      <td>45603.4</td>\n",
       "      <td>307.3</td>\n",
       "      <td>351.112322</td>\n",
       "      <td>22.3</td>\n",
       "      <td>24.0</td>\n",
       "    </tr>\n",
       "    <tr>\n",
       "      <th>2.0</th>\n",
       "      <td>2000-11-03</td>\n",
       "      <td>181.0</td>\n",
       "      <td>27439.3</td>\n",
       "      <td>325.8</td>\n",
       "      <td>353.117680</td>\n",
       "      <td>23.8</td>\n",
       "      <td>26.0</td>\n",
       "    </tr>\n",
       "    <tr>\n",
       "      <th>3.0</th>\n",
       "      <td>2000-11-04</td>\n",
       "      <td>239.0</td>\n",
       "      <td>29887.1</td>\n",
       "      <td>299.7</td>\n",
       "      <td>361.599163</td>\n",
       "      <td>23.0</td>\n",
       "      <td>28.0</td>\n",
       "    </tr>\n",
       "    <tr>\n",
       "      <th>4.0</th>\n",
       "      <td>2000-11-05</td>\n",
       "      <td>43.0</td>\n",
       "      <td>7193.7</td>\n",
       "      <td>92.0</td>\n",
       "      <td>347.181395</td>\n",
       "      <td>21.4</td>\n",
       "      <td>28.0</td>\n",
       "    </tr>\n",
       "    <tr>\n",
       "      <th>...</th>\n",
       "      <td>...</td>\n",
       "      <td>...</td>\n",
       "      <td>...</td>\n",
       "      <td>...</td>\n",
       "      <td>...</td>\n",
       "      <td>...</td>\n",
       "      <td>...</td>\n",
       "    </tr>\n",
       "    <tr>\n",
       "      <th>6919.0</th>\n",
       "      <td>2019-10-12</td>\n",
       "      <td>211.0</td>\n",
       "      <td>36282.4</td>\n",
       "      <td>312.8</td>\n",
       "      <td>361.617062</td>\n",
       "      <td>20.4</td>\n",
       "      <td>21.3</td>\n",
       "    </tr>\n",
       "    <tr>\n",
       "      <th>6920.0</th>\n",
       "      <td>2019-10-13</td>\n",
       "      <td>128.0</td>\n",
       "      <td>23654.4</td>\n",
       "      <td>225.6</td>\n",
       "      <td>357.284375</td>\n",
       "      <td>19.2</td>\n",
       "      <td>25.3</td>\n",
       "    </tr>\n",
       "    <tr>\n",
       "      <th>6921.0</th>\n",
       "      <td>2019-10-14</td>\n",
       "      <td>230.0</td>\n",
       "      <td>49021.2</td>\n",
       "      <td>346.0</td>\n",
       "      <td>361.449565</td>\n",
       "      <td>21.9</td>\n",
       "      <td>25.9</td>\n",
       "    </tr>\n",
       "    <tr>\n",
       "      <th>6922.0</th>\n",
       "      <td>2019-10-15</td>\n",
       "      <td>137.0</td>\n",
       "      <td>23865.6</td>\n",
       "      <td>232.1</td>\n",
       "      <td>357.659854</td>\n",
       "      <td>24.0</td>\n",
       "      <td>27.2</td>\n",
       "    </tr>\n",
       "    <tr>\n",
       "      <th>6923.0</th>\n",
       "      <td>2019-10-16</td>\n",
       "      <td>145.0</td>\n",
       "      <td>18452.4</td>\n",
       "      <td>206.2</td>\n",
       "      <td>353.496552</td>\n",
       "      <td>23.0</td>\n",
       "      <td>28.6</td>\n",
       "    </tr>\n",
       "  </tbody>\n",
       "</table>\n",
       "<p>6835 rows × 7 columns</p>\n",
       "</div>"
      ],
      "text/plain": [
       "         acq_date  fires      frp   scan  brightness  max_t_syd  max_t_bne\n",
       "0.0    2000-11-01  104.0  17572.6  195.4  357.982692       22.8       27.0\n",
       "1.0    2000-11-02  211.0  45603.4  307.3  351.112322       22.3       24.0\n",
       "2.0    2000-11-03  181.0  27439.3  325.8  353.117680       23.8       26.0\n",
       "3.0    2000-11-04  239.0  29887.1  299.7  361.599163       23.0       28.0\n",
       "4.0    2000-11-05   43.0   7193.7   92.0  347.181395       21.4       28.0\n",
       "...           ...    ...      ...    ...         ...        ...        ...\n",
       "6919.0 2019-10-12  211.0  36282.4  312.8  361.617062       20.4       21.3\n",
       "6920.0 2019-10-13  128.0  23654.4  225.6  357.284375       19.2       25.3\n",
       "6921.0 2019-10-14  230.0  49021.2  346.0  361.449565       21.9       25.9\n",
       "6922.0 2019-10-15  137.0  23865.6  232.1  357.659854       24.0       27.2\n",
       "6923.0 2019-10-16  145.0  18452.4  206.2  353.496552       23.0       28.6\n",
       "\n",
       "[6835 rows x 7 columns]"
      ]
     },
     "execution_count": 1,
     "metadata": {},
     "output_type": "execute_result"
    }
   ],
   "source": [
    "import pandas as pd\n",
    "\n",
    "bushfires_df = pd.read_csv(\"/kaggle/input/yicte-bushfires-over-time/data.csv\", index_col=0)\n",
    "bushfires_df['acq_date'] = pd.to_datetime(bushfires_df['acq_date'])\n",
    "\n",
    "bushfires_df"
   ]
  },
  {
   "cell_type": "code",
   "execution_count": 2,
   "id": "9da3a602",
   "metadata": {
    "execution": {
     "iopub.execute_input": "2023-07-14T10:59:55.786914Z",
     "iopub.status.busy": "2023-07-14T10:59:55.785516Z",
     "iopub.status.idle": "2023-07-14T10:59:55.796368Z",
     "shell.execute_reply": "2023-07-14T10:59:55.795521Z"
    },
    "papermill": {
     "duration": 0.018737,
     "end_time": "2023-07-14T10:59:55.798341",
     "exception": false,
     "start_time": "2023-07-14T10:59:55.779604",
     "status": "completed"
    },
    "tags": []
   },
   "outputs": [],
   "source": [
    "# Feature engineering to introduce seasonality concepts and trends.\n",
    "import numpy as np\n",
    "\n",
    "bushfires_df[\"time_sin\"] = np.sin((bushfires_df['acq_date'].dt.day_of_year / 365) * 2 * np.pi)\n",
    "bushfires_df[\"time_cos\"] = np.cos((bushfires_df['acq_date'].dt.day_of_year / 365) * 2 * np.pi)\n",
    "bushfires_df[\"year\"] = bushfires_df['acq_date'].dt.year"
   ]
  },
  {
   "cell_type": "code",
   "execution_count": 3,
   "id": "9997abe5",
   "metadata": {
    "execution": {
     "iopub.execute_input": "2023-07-14T10:59:55.809888Z",
     "iopub.status.busy": "2023-07-14T10:59:55.808467Z",
     "iopub.status.idle": "2023-07-14T10:59:55.852243Z",
     "shell.execute_reply": "2023-07-14T10:59:55.851212Z"
    },
    "papermill": {
     "duration": 0.05155,
     "end_time": "2023-07-14T10:59:55.854498",
     "exception": false,
     "start_time": "2023-07-14T10:59:55.802948",
     "status": "completed"
    },
    "tags": []
   },
   "outputs": [],
   "source": [
    "# Group by week, average/sum, add a 'year' feature\n",
    "grouped_df = bushfires_df.groupby(pd.Grouper(freq='W', key='acq_date'))\n",
    "\n",
    "df = pd.DataFrame()\n",
    "\n",
    "df['scan'] = grouped_df['scan'].mean()\n",
    "df['max_t_syd'] = grouped_df['max_t_syd'].mean()\n",
    "df['max_t_bne'] = grouped_df['max_t_bne'].mean()\n",
    "df['time_sin'] = grouped_df['time_sin'].first()\n",
    "df['time_cos'] = grouped_df['time_cos'].first()\n",
    "df['year'] = grouped_df['year'].first() - 2000 # we'll count the years since approx when the data starts.\n",
    "\n",
    "df = df.dropna()"
   ]
  },
  {
   "cell_type": "code",
   "execution_count": 4,
   "id": "24d40607",
   "metadata": {
    "execution": {
     "iopub.execute_input": "2023-07-14T10:59:55.866457Z",
     "iopub.status.busy": "2023-07-14T10:59:55.865033Z",
     "iopub.status.idle": "2023-07-14T10:59:55.873266Z",
     "shell.execute_reply": "2023-07-14T10:59:55.872443Z"
    },
    "papermill": {
     "duration": 0.015912,
     "end_time": "2023-07-14T10:59:55.875272",
     "exception": false,
     "start_time": "2023-07-14T10:59:55.859360",
     "status": "completed"
    },
    "tags": []
   },
   "outputs": [],
   "source": [
    "# Split into train/test\n",
    "\n",
    "train_dataset = df.sample(frac=0.8, random_state=0)\n",
    "test_dataset = df.drop(train_dataset.index)\n",
    "\n",
    "train_features = train_dataset.copy()\n",
    "test_features = test_dataset.copy()\n",
    "\n",
    "train_labels = train_features.pop('scan')\n",
    "test_labels = test_features.pop('scan')"
   ]
  },
  {
   "cell_type": "code",
   "execution_count": 5,
   "id": "4f2f70c6",
   "metadata": {
    "execution": {
     "iopub.execute_input": "2023-07-14T10:59:55.886988Z",
     "iopub.status.busy": "2023-07-14T10:59:55.885655Z",
     "iopub.status.idle": "2023-07-14T10:59:55.906806Z",
     "shell.execute_reply": "2023-07-14T10:59:55.905972Z"
    },
    "papermill": {
     "duration": 0.029045,
     "end_time": "2023-07-14T10:59:55.909082",
     "exception": false,
     "start_time": "2023-07-14T10:59:55.880037",
     "status": "completed"
    },
    "tags": []
   },
   "outputs": [
    {
     "data": {
      "text/html": [
       "<div>\n",
       "<style scoped>\n",
       "    .dataframe tbody tr th:only-of-type {\n",
       "        vertical-align: middle;\n",
       "    }\n",
       "\n",
       "    .dataframe tbody tr th {\n",
       "        vertical-align: top;\n",
       "    }\n",
       "\n",
       "    .dataframe thead th {\n",
       "        text-align: right;\n",
       "    }\n",
       "</style>\n",
       "<table border=\"1\" class=\"dataframe\">\n",
       "  <thead>\n",
       "    <tr style=\"text-align: right;\">\n",
       "      <th></th>\n",
       "      <th>scan</th>\n",
       "      <th>max_t_syd</th>\n",
       "      <th>max_t_bne</th>\n",
       "      <th>time_sin</th>\n",
       "      <th>time_cos</th>\n",
       "      <th>year</th>\n",
       "    </tr>\n",
       "    <tr>\n",
       "      <th>acq_date</th>\n",
       "      <th></th>\n",
       "      <th></th>\n",
       "      <th></th>\n",
       "      <th></th>\n",
       "      <th></th>\n",
       "      <th></th>\n",
       "    </tr>\n",
       "  </thead>\n",
       "  <tbody>\n",
       "    <tr>\n",
       "      <th>2010-05-30</th>\n",
       "      <td>3.316667</td>\n",
       "      <td>18.166667</td>\n",
       "      <td>21.933333</td>\n",
       "      <td>0.601624</td>\n",
       "      <td>-0.798779</td>\n",
       "      <td>10.0</td>\n",
       "    </tr>\n",
       "    <tr>\n",
       "      <th>2008-02-24</th>\n",
       "      <td>3.933333</td>\n",
       "      <td>25.783333</td>\n",
       "      <td>31.500000</td>\n",
       "      <td>0.746972</td>\n",
       "      <td>0.664855</td>\n",
       "      <td>8.0</td>\n",
       "    </tr>\n",
       "    <tr>\n",
       "      <th>2004-02-29</th>\n",
       "      <td>7.416667</td>\n",
       "      <td>25.216667</td>\n",
       "      <td>30.866667</td>\n",
       "      <td>0.811539</td>\n",
       "      <td>0.584298</td>\n",
       "      <td>4.0</td>\n",
       "    </tr>\n",
       "    <tr>\n",
       "      <th>2009-03-15</th>\n",
       "      <td>7.485714</td>\n",
       "      <td>25.400000</td>\n",
       "      <td>27.171429</td>\n",
       "      <td>0.920971</td>\n",
       "      <td>0.389630</td>\n",
       "      <td>9.0</td>\n",
       "    </tr>\n",
       "    <tr>\n",
       "      <th>2016-02-07</th>\n",
       "      <td>7.500000</td>\n",
       "      <td>26.857143</td>\n",
       "      <td>31.171429</td>\n",
       "      <td>0.523416</td>\n",
       "      <td>0.852078</td>\n",
       "      <td>16.0</td>\n",
       "    </tr>\n",
       "    <tr>\n",
       "      <th>...</th>\n",
       "      <td>...</td>\n",
       "      <td>...</td>\n",
       "      <td>...</td>\n",
       "      <td>...</td>\n",
       "      <td>...</td>\n",
       "      <td>...</td>\n",
       "    </tr>\n",
       "    <tr>\n",
       "      <th>2012-10-21</th>\n",
       "      <td>1845.114286</td>\n",
       "      <td>26.871429</td>\n",
       "      <td>28.214286</td>\n",
       "      <td>-0.965740</td>\n",
       "      <td>0.259512</td>\n",
       "      <td>12.0</td>\n",
       "    </tr>\n",
       "    <tr>\n",
       "      <th>2002-11-03</th>\n",
       "      <td>2257.785714</td>\n",
       "      <td>23.985714</td>\n",
       "      <td>27.000000</td>\n",
       "      <td>-0.891981</td>\n",
       "      <td>0.452072</td>\n",
       "      <td>2.0</td>\n",
       "    </tr>\n",
       "    <tr>\n",
       "      <th>2012-10-28</th>\n",
       "      <td>2311.142857</td>\n",
       "      <td>21.300000</td>\n",
       "      <td>27.785714</td>\n",
       "      <td>-0.927542</td>\n",
       "      <td>0.373720</td>\n",
       "      <td>12.0</td>\n",
       "    </tr>\n",
       "    <tr>\n",
       "      <th>2011-10-02</th>\n",
       "      <td>2426.057143</td>\n",
       "      <td>19.771429</td>\n",
       "      <td>24.000000</td>\n",
       "      <td>-0.996659</td>\n",
       "      <td>-0.081676</td>\n",
       "      <td>11.0</td>\n",
       "    </tr>\n",
       "    <tr>\n",
       "      <th>2011-09-25</th>\n",
       "      <td>2505.371429</td>\n",
       "      <td>23.871429</td>\n",
       "      <td>26.414286</td>\n",
       "      <td>-0.979614</td>\n",
       "      <td>-0.200891</td>\n",
       "      <td>11.0</td>\n",
       "    </tr>\n",
       "  </tbody>\n",
       "</table>\n",
       "<p>790 rows × 6 columns</p>\n",
       "</div>"
      ],
      "text/plain": [
       "                   scan  max_t_syd  max_t_bne  time_sin  time_cos  year\n",
       "acq_date                                                               \n",
       "2010-05-30     3.316667  18.166667  21.933333  0.601624 -0.798779  10.0\n",
       "2008-02-24     3.933333  25.783333  31.500000  0.746972  0.664855   8.0\n",
       "2004-02-29     7.416667  25.216667  30.866667  0.811539  0.584298   4.0\n",
       "2009-03-15     7.485714  25.400000  27.171429  0.920971  0.389630   9.0\n",
       "2016-02-07     7.500000  26.857143  31.171429  0.523416  0.852078  16.0\n",
       "...                 ...        ...        ...       ...       ...   ...\n",
       "2012-10-21  1845.114286  26.871429  28.214286 -0.965740  0.259512  12.0\n",
       "2002-11-03  2257.785714  23.985714  27.000000 -0.891981  0.452072   2.0\n",
       "2012-10-28  2311.142857  21.300000  27.785714 -0.927542  0.373720  12.0\n",
       "2011-10-02  2426.057143  19.771429  24.000000 -0.996659 -0.081676  11.0\n",
       "2011-09-25  2505.371429  23.871429  26.414286 -0.979614 -0.200891  11.0\n",
       "\n",
       "[790 rows x 6 columns]"
      ]
     },
     "execution_count": 5,
     "metadata": {},
     "output_type": "execute_result"
    }
   ],
   "source": [
    "train_dataset = train_dataset.sort_values([\"scan\", \"acq_date\"])\n",
    "\n",
    "train_dataset"
   ]
  },
  {
   "cell_type": "code",
   "execution_count": 6,
   "id": "8554c5c5",
   "metadata": {
    "execution": {
     "iopub.execute_input": "2023-07-14T10:59:55.920017Z",
     "iopub.status.busy": "2023-07-14T10:59:55.919759Z",
     "iopub.status.idle": "2023-07-14T11:00:03.762185Z",
     "shell.execute_reply": "2023-07-14T11:00:03.760122Z"
    },
    "papermill": {
     "duration": 7.855493,
     "end_time": "2023-07-14T11:00:03.769476",
     "exception": false,
     "start_time": "2023-07-14T10:59:55.913983",
     "status": "completed"
    },
    "tags": []
   },
   "outputs": [
    {
     "name": "stderr",
     "output_type": "stream",
     "text": [
      "/opt/conda/lib/python3.10/site-packages/tensorflow_io/python/ops/__init__.py:98: UserWarning: unable to load libtensorflow_io_plugins.so: unable to open file: libtensorflow_io_plugins.so, from paths: ['/opt/conda/lib/python3.10/site-packages/tensorflow_io/python/ops/libtensorflow_io_plugins.so']\n",
      "caused by: ['/opt/conda/lib/python3.10/site-packages/tensorflow_io/python/ops/libtensorflow_io_plugins.so: undefined symbol: _ZN3tsl6StatusC1EN10tensorflow5error4CodeESt17basic_string_viewIcSt11char_traitsIcEENS_14SourceLocationE']\n",
      "  warnings.warn(f\"unable to load libtensorflow_io_plugins.so: {e}\")\n",
      "/opt/conda/lib/python3.10/site-packages/tensorflow_io/python/ops/__init__.py:104: UserWarning: file system plugins are not loaded: unable to open file: libtensorflow_io.so, from paths: ['/opt/conda/lib/python3.10/site-packages/tensorflow_io/python/ops/libtensorflow_io.so']\n",
      "caused by: ['/opt/conda/lib/python3.10/site-packages/tensorflow_io/python/ops/libtensorflow_io.so: undefined symbol: _ZTVN10tensorflow13GcsFileSystemE']\n",
      "  warnings.warn(f\"file system plugins are not loaded: {e}\")\n"
     ]
    }
   ],
   "source": [
    "import tensorflow as tf"
   ]
  },
  {
   "cell_type": "code",
   "execution_count": 7,
   "id": "07b3e24a",
   "metadata": {
    "execution": {
     "iopub.execute_input": "2023-07-14T11:00:03.786346Z",
     "iopub.status.busy": "2023-07-14T11:00:03.785508Z",
     "iopub.status.idle": "2023-07-14T11:00:03.795634Z",
     "shell.execute_reply": "2023-07-14T11:00:03.794793Z"
    },
    "papermill": {
     "duration": 0.021355,
     "end_time": "2023-07-14T11:00:03.798319",
     "exception": false,
     "start_time": "2023-07-14T11:00:03.776964",
     "status": "completed"
    },
    "tags": []
   },
   "outputs": [],
   "source": [
    "# Utility function for the model\n",
    "def build_and_compile_model():\n",
    "    model = tf.keras.Sequential([\n",
    "        tf.keras.layers.Dense(16, activation='relu'), # Input layer\n",
    "        tf.keras.layers.Dense(64, activation='relu'), # Hidden layer\n",
    "        tf.keras.layers.Dense(64, activation='relu'),\n",
    "        tf.keras.layers.Dense(1) # Output layer\n",
    "    ])\n",
    "\n",
    "    model.compile(loss='mean_absolute_error',\n",
    "                optimizer=tf.keras.optimizers.Adam(learning_rate=0.001, clipnorm=1.))\n",
    "    return model"
   ]
  },
  {
   "cell_type": "code",
   "execution_count": 8,
   "id": "71445bc6",
   "metadata": {
    "execution": {
     "iopub.execute_input": "2023-07-14T11:00:03.814370Z",
     "iopub.status.busy": "2023-07-14T11:00:03.813996Z",
     "iopub.status.idle": "2023-07-14T11:00:03.820236Z",
     "shell.execute_reply": "2023-07-14T11:00:03.819378Z"
    },
    "papermill": {
     "duration": 0.018814,
     "end_time": "2023-07-14T11:00:03.824391",
     "exception": false,
     "start_time": "2023-07-14T11:00:03.805577",
     "status": "completed"
    },
    "tags": []
   },
   "outputs": [],
   "source": [
    "# Utility function for plotting loss\n",
    "import matplotlib.pyplot as plt\n",
    "\n",
    "def plot_loss(history):\n",
    "    plt.plot(history.history['loss'], label='loss')\n",
    "    plt.plot(history.history['val_loss'], label='val_loss')\n",
    "    plt.xlabel('Epoch')\n",
    "    plt.ylabel('Error')\n",
    "    plt.legend()\n",
    "    plt.grid(True)"
   ]
  },
  {
   "cell_type": "code",
   "execution_count": 9,
   "id": "46ddc872",
   "metadata": {
    "execution": {
     "iopub.execute_input": "2023-07-14T11:00:03.840155Z",
     "iopub.status.busy": "2023-07-14T11:00:03.839753Z",
     "iopub.status.idle": "2023-07-14T11:03:09.510821Z",
     "shell.execute_reply": "2023-07-14T11:03:09.509768Z"
    },
    "papermill": {
     "duration": 185.681839,
     "end_time": "2023-07-14T11:03:09.513499",
     "exception": false,
     "start_time": "2023-07-14T11:00:03.831660",
     "status": "completed"
    },
    "tags": []
   },
   "outputs": [],
   "source": [
    "model = build_and_compile_model()\n",
    "\n",
    "history = model.fit(\n",
    "    train_features,\n",
    "    train_labels,\n",
    "    validation_data=(test_features, test_labels),\n",
    "    verbose=0, epochs=1600)"
   ]
  },
  {
   "cell_type": "code",
   "execution_count": 10,
   "id": "397f9346",
   "metadata": {
    "execution": {
     "iopub.execute_input": "2023-07-14T11:03:09.527459Z",
     "iopub.status.busy": "2023-07-14T11:03:09.525670Z",
     "iopub.status.idle": "2023-07-14T11:03:09.539823Z",
     "shell.execute_reply": "2023-07-14T11:03:09.538755Z"
    },
    "papermill": {
     "duration": 0.022849,
     "end_time": "2023-07-14T11:03:09.542133",
     "exception": false,
     "start_time": "2023-07-14T11:03:09.519284",
     "status": "completed"
    },
    "tags": []
   },
   "outputs": [
    {
     "data": {
      "text/html": [
       "<div>\n",
       "<style scoped>\n",
       "    .dataframe tbody tr th:only-of-type {\n",
       "        vertical-align: middle;\n",
       "    }\n",
       "\n",
       "    .dataframe tbody tr th {\n",
       "        vertical-align: top;\n",
       "    }\n",
       "\n",
       "    .dataframe thead th {\n",
       "        text-align: right;\n",
       "    }\n",
       "</style>\n",
       "<table border=\"1\" class=\"dataframe\">\n",
       "  <thead>\n",
       "    <tr style=\"text-align: right;\">\n",
       "      <th></th>\n",
       "      <th>loss</th>\n",
       "      <th>val_loss</th>\n",
       "    </tr>\n",
       "  </thead>\n",
       "  <tbody>\n",
       "    <tr>\n",
       "      <th>0</th>\n",
       "      <td>188.141769</td>\n",
       "      <td>165.677612</td>\n",
       "    </tr>\n",
       "    <tr>\n",
       "      <th>1</th>\n",
       "      <td>163.986237</td>\n",
       "      <td>154.013428</td>\n",
       "    </tr>\n",
       "    <tr>\n",
       "      <th>2</th>\n",
       "      <td>159.387909</td>\n",
       "      <td>153.916092</td>\n",
       "    </tr>\n",
       "    <tr>\n",
       "      <th>3</th>\n",
       "      <td>159.539810</td>\n",
       "      <td>153.938263</td>\n",
       "    </tr>\n",
       "    <tr>\n",
       "      <th>4</th>\n",
       "      <td>158.806656</td>\n",
       "      <td>153.682159</td>\n",
       "    </tr>\n",
       "    <tr>\n",
       "      <th>...</th>\n",
       "      <td>...</td>\n",
       "      <td>...</td>\n",
       "    </tr>\n",
       "    <tr>\n",
       "      <th>1595</th>\n",
       "      <td>114.591423</td>\n",
       "      <td>114.905197</td>\n",
       "    </tr>\n",
       "    <tr>\n",
       "      <th>1596</th>\n",
       "      <td>114.616081</td>\n",
       "      <td>117.453758</td>\n",
       "    </tr>\n",
       "    <tr>\n",
       "      <th>1597</th>\n",
       "      <td>113.424889</td>\n",
       "      <td>116.004112</td>\n",
       "    </tr>\n",
       "    <tr>\n",
       "      <th>1598</th>\n",
       "      <td>113.645157</td>\n",
       "      <td>115.931564</td>\n",
       "    </tr>\n",
       "    <tr>\n",
       "      <th>1599</th>\n",
       "      <td>112.989281</td>\n",
       "      <td>119.833534</td>\n",
       "    </tr>\n",
       "  </tbody>\n",
       "</table>\n",
       "<p>1600 rows × 2 columns</p>\n",
       "</div>"
      ],
      "text/plain": [
       "            loss    val_loss\n",
       "0     188.141769  165.677612\n",
       "1     163.986237  154.013428\n",
       "2     159.387909  153.916092\n",
       "3     159.539810  153.938263\n",
       "4     158.806656  153.682159\n",
       "...          ...         ...\n",
       "1595  114.591423  114.905197\n",
       "1596  114.616081  117.453758\n",
       "1597  113.424889  116.004112\n",
       "1598  113.645157  115.931564\n",
       "1599  112.989281  119.833534\n",
       "\n",
       "[1600 rows x 2 columns]"
      ]
     },
     "execution_count": 10,
     "metadata": {},
     "output_type": "execute_result"
    }
   ],
   "source": [
    "pd.DataFrame(history.history)"
   ]
  },
  {
   "cell_type": "code",
   "execution_count": 11,
   "id": "c5f40cab",
   "metadata": {
    "execution": {
     "iopub.execute_input": "2023-07-14T11:03:09.554000Z",
     "iopub.status.busy": "2023-07-14T11:03:09.553721Z",
     "iopub.status.idle": "2023-07-14T11:03:09.926030Z",
     "shell.execute_reply": "2023-07-14T11:03:09.925062Z"
    },
    "papermill": {
     "duration": 0.380865,
     "end_time": "2023-07-14T11:03:09.928415",
     "exception": false,
     "start_time": "2023-07-14T11:03:09.547550",
     "status": "completed"
    },
    "tags": []
   },
   "outputs": [
    {
     "data": {
      "image/png": "[encoded data removed]",
      "text/plain": [
       "<Figure size 640x480 with 1 Axes>"
      ]
     },
     "metadata": {},
     "output_type": "display_data"
    }
   ],
   "source": [
    "plot_loss(history)"
   ]
  },
  {
   "cell_type": "code",
   "execution_count": 12,
   "id": "03db4f7b",
   "metadata": {
    "execution": {
     "iopub.execute_input": "2023-07-14T11:03:09.942433Z",
     "iopub.status.busy": "2023-07-14T11:03:09.941490Z",
     "iopub.status.idle": "2023-07-14T11:03:10.451556Z",
     "shell.execute_reply": "2023-07-14T11:03:10.449161Z"
    },
    "papermill": {
     "duration": 0.519329,
     "end_time": "2023-07-14T11:03:10.453757",
     "exception": false,
     "start_time": "2023-07-14T11:03:09.934428",
     "status": "completed"
    },
    "tags": []
   },
   "outputs": [
    {
     "name": "stdout",
     "output_type": "stream",
     "text": [
      "7/7 [==============================] - 0s 2ms/step\n"
     ]
    },
    {
     "data": {
      "text/plain": [
       "<matplotlib.legend.Legend at 0x7abdb4ba3760>"
      ]
     },
     "execution_count": 12,
     "metadata": {},
     "output_type": "execute_result"
    },
    {
     "data": {
      "image/png": "[encoded data removed]",
      "text/plain": [
       "<Figure size 640x480 with 1 Axes>"
      ]
     },
     "metadata": {},
     "output_type": "display_data"
    }
   ],
   "source": [
    "plt.plot(model.predict(test_features), label=\"Prediction\")\n",
    "plt.plot(test_labels.reset_index()['scan'], label=\"Actual\")\n",
    "plt.xlabel(\"Index\")\n",
    "plt.ylabel(\"Fire Scan Area\")\n",
    "plt.legend()"
   ]
  },
  {
   "cell_type": "code",
   "execution_count": 13,
   "id": "d144b070",
   "metadata": {
    "execution": {
     "iopub.execute_input": "2023-07-14T11:03:10.469239Z",
     "iopub.status.busy": "2023-07-14T11:03:10.468932Z",
     "iopub.status.idle": "2023-07-14T11:03:10.541045Z",
     "shell.execute_reply": "2023-07-14T11:03:10.540111Z"
    },
    "papermill": {
     "duration": 0.082044,
     "end_time": "2023-07-14T11:03:10.543042",
     "exception": false,
     "start_time": "2023-07-14T11:03:10.460998",
     "status": "completed"
    },
    "tags": []
   },
   "outputs": [
    {
     "name": "stdout",
     "output_type": "stream",
     "text": [
      "1/1 [==============================] - 0s 19ms/step\n"
     ]
    },
    {
     "data": {
      "text/plain": [
       "array([[148.35712]], dtype=float32)"
      ]
     },
     "execution_count": 13,
     "metadata": {},
     "output_type": "execute_result"
    }
   ],
   "source": [
    "# testing with some crazy data just because it's funny\n",
    "new_data = {\n",
    "    \"max_t_syd\": [34.023],\n",
    "    \"max_t_bne\": [35.253],\n",
    "    \"time_sin\": [0.017213],\n",
    "    \"time_cos\": [0.999852],\n",
    "    \"year\": [52.0]\n",
    "}\n",
    "\n",
    "new_df = pd.DataFrame(data=new_data)\n",
    "\n",
    "model.predict(new_df)"
   ]
  },
  {
   "cell_type": "code",
   "execution_count": 14,
   "id": "ae7f0ca9",
   "metadata": {
    "execution": {
     "iopub.execute_input": "2023-07-14T11:03:10.560025Z",
     "iopub.status.busy": "2023-07-14T11:03:10.559734Z",
     "iopub.status.idle": "2023-07-14T11:03:10.599803Z",
     "shell.execute_reply": "2023-07-14T11:03:10.598893Z"
    },
    "papermill": {
     "duration": 0.051152,
     "end_time": "2023-07-14T11:03:10.602217",
     "exception": false,
     "start_time": "2023-07-14T11:03:10.551065",
     "status": "completed"
    },
    "tags": []
   },
   "outputs": [],
   "source": [
    "model.save(\"/kaggle/working/model.keras\")"
   ]
  }
 ],
 "metadata": {
  "kernelspec": {
   "display_name": "Python 3",
   "language": "python",
   "name": "python3"
  },
  "language_info": {
   "codemirror_mode": {
    "name": "ipython",
    "version": 3
   },
   "file_extension": ".py",
   "mimetype": "text/x-python",
   "name": "python",
   "nbconvert_exporter": "python",
   "pygments_lexer": "ipython3",
   "version": "3.10.10"
  },
  "papermill": {
   "default_parameters": {},
   "duration": 208.81189,
   "end_time": "2023-07-14T11:03:13.830046",
   "environment_variables": {},
   "exception": null,
   "input_path": "__notebook__.ipynb",
   "output_path": "__notebook__.ipynb",
   "parameters": {},
   "start_time": "2023-07-14T10:59:45.018156",
   "version": "2.4.0"
  }
 },
 "nbformat": 4,
 "nbformat_minor": 5
}
