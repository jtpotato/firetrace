{
 "cells": [
  {
   "cell_type": "markdown",
   "id": "8a3cc9e4",
   "metadata": {
    "papermill": {
     "duration": 0.005978,
     "end_time": "2023-07-08T00:18:32.256945",
     "exception": false,
     "start_time": "2023-07-08T00:18:32.250967",
     "status": "completed"
    },
    "tags": []
   },
   "source": [
    "Part C: Using a DNN to Estimate Area Of Future Fires\n",
    "===\n",
    "See paper (to be written) for further explanation, although this notebook will contain some explanation regarding the nature of the notebook's contents."
   ]
  },
  {
   "cell_type": "code",
   "execution_count": 1,
   "id": "01ab5e0f",
   "metadata": {
    "execution": {
     "iopub.execute_input": "2023-07-08T00:18:32.270905Z",
     "iopub.status.busy": "2023-07-08T00:18:32.270005Z",
     "iopub.status.idle": "2023-07-08T00:18:32.360274Z",
     "shell.execute_reply": "2023-07-08T00:18:32.359224Z"
    },
    "papermill": {
     "duration": 0.099981,
     "end_time": "2023-07-08T00:18:32.362702",
     "exception": false,
     "start_time": "2023-07-08T00:18:32.262721",
     "status": "completed"
    },
    "tags": []
   },
   "outputs": [
    {
     "data": {
      "text/html": [
       "<div>\n",
       "<style scoped>\n",
       "    .dataframe tbody tr th:only-of-type {\n",
       "        vertical-align: middle;\n",
       "    }\n",
       "\n",
       "    .dataframe tbody tr th {\n",
       "        vertical-align: top;\n",
       "    }\n",
       "\n",
       "    .dataframe thead th {\n",
       "        text-align: right;\n",
       "    }\n",
       "</style>\n",
       "<table border=\"1\" class=\"dataframe\">\n",
       "  <thead>\n",
       "    <tr style=\"text-align: right;\">\n",
       "      <th></th>\n",
       "      <th>acq_date</th>\n",
       "      <th>fires</th>\n",
       "      <th>frp</th>\n",
       "      <th>scan</th>\n",
       "      <th>brightness</th>\n",
       "      <th>max_t_syd</th>\n",
       "      <th>max_t_bne</th>\n",
       "    </tr>\n",
       "  </thead>\n",
       "  <tbody>\n",
       "    <tr>\n",
       "      <th>0.0</th>\n",
       "      <td>2000-11-01</td>\n",
       "      <td>104.0</td>\n",
       "      <td>17572.6</td>\n",
       "      <td>195.4</td>\n",
       "      <td>357.982692</td>\n",
       "      <td>22.8</td>\n",
       "      <td>27.0</td>\n",
       "    </tr>\n",
       "    <tr>\n",
       "      <th>1.0</th>\n",
       "      <td>2000-11-02</td>\n",
       "      <td>211.0</td>\n",
       "      <td>45603.4</td>\n",
       "      <td>307.3</td>\n",
       "      <td>351.112322</td>\n",
       "      <td>22.3</td>\n",
       "      <td>24.0</td>\n",
       "    </tr>\n",
       "    <tr>\n",
       "      <th>2.0</th>\n",
       "      <td>2000-11-03</td>\n",
       "      <td>181.0</td>\n",
       "      <td>27439.3</td>\n",
       "      <td>325.8</td>\n",
       "      <td>353.117680</td>\n",
       "      <td>23.8</td>\n",
       "      <td>26.0</td>\n",
       "    </tr>\n",
       "    <tr>\n",
       "      <th>3.0</th>\n",
       "      <td>2000-11-04</td>\n",
       "      <td>239.0</td>\n",
       "      <td>29887.1</td>\n",
       "      <td>299.7</td>\n",
       "      <td>361.599163</td>\n",
       "      <td>23.0</td>\n",
       "      <td>28.0</td>\n",
       "    </tr>\n",
       "    <tr>\n",
       "      <th>4.0</th>\n",
       "      <td>2000-11-05</td>\n",
       "      <td>43.0</td>\n",
       "      <td>7193.7</td>\n",
       "      <td>92.0</td>\n",
       "      <td>347.181395</td>\n",
       "      <td>21.4</td>\n",
       "      <td>28.0</td>\n",
       "    </tr>\n",
       "    <tr>\n",
       "      <th>...</th>\n",
       "      <td>...</td>\n",
       "      <td>...</td>\n",
       "      <td>...</td>\n",
       "      <td>...</td>\n",
       "      <td>...</td>\n",
       "      <td>...</td>\n",
       "      <td>...</td>\n",
       "    </tr>\n",
       "    <tr>\n",
       "      <th>6919.0</th>\n",
       "      <td>2019-10-12</td>\n",
       "      <td>211.0</td>\n",
       "      <td>36282.4</td>\n",
       "      <td>312.8</td>\n",
       "      <td>361.617062</td>\n",
       "      <td>20.4</td>\n",
       "      <td>21.3</td>\n",
       "    </tr>\n",
       "    <tr>\n",
       "      <th>6920.0</th>\n",
       "      <td>2019-10-13</td>\n",
       "      <td>128.0</td>\n",
       "      <td>23654.4</td>\n",
       "      <td>225.6</td>\n",
       "      <td>357.284375</td>\n",
       "      <td>19.2</td>\n",
       "      <td>25.3</td>\n",
       "    </tr>\n",
       "    <tr>\n",
       "      <th>6921.0</th>\n",
       "      <td>2019-10-14</td>\n",
       "      <td>230.0</td>\n",
       "      <td>49021.2</td>\n",
       "      <td>346.0</td>\n",
       "      <td>361.449565</td>\n",
       "      <td>21.9</td>\n",
       "      <td>25.9</td>\n",
       "    </tr>\n",
       "    <tr>\n",
       "      <th>6922.0</th>\n",
       "      <td>2019-10-15</td>\n",
       "      <td>137.0</td>\n",
       "      <td>23865.6</td>\n",
       "      <td>232.1</td>\n",
       "      <td>357.659854</td>\n",
       "      <td>24.0</td>\n",
       "      <td>27.2</td>\n",
       "    </tr>\n",
       "    <tr>\n",
       "      <th>6923.0</th>\n",
       "      <td>2019-10-16</td>\n",
       "      <td>145.0</td>\n",
       "      <td>18452.4</td>\n",
       "      <td>206.2</td>\n",
       "      <td>353.496552</td>\n",
       "      <td>23.0</td>\n",
       "      <td>28.6</td>\n",
       "    </tr>\n",
       "  </tbody>\n",
       "</table>\n",
       "<p>6835 rows × 7 columns</p>\n",
       "</div>"
      ],
      "text/plain": [
       "         acq_date  fires      frp   scan  brightness  max_t_syd  max_t_bne\n",
       "0.0    2000-11-01  104.0  17572.6  195.4  357.982692       22.8       27.0\n",
       "1.0    2000-11-02  211.0  45603.4  307.3  351.112322       22.3       24.0\n",
       "2.0    2000-11-03  181.0  27439.3  325.8  353.117680       23.8       26.0\n",
       "3.0    2000-11-04  239.0  29887.1  299.7  361.599163       23.0       28.0\n",
       "4.0    2000-11-05   43.0   7193.7   92.0  347.181395       21.4       28.0\n",
       "...           ...    ...      ...    ...         ...        ...        ...\n",
       "6919.0 2019-10-12  211.0  36282.4  312.8  361.617062       20.4       21.3\n",
       "6920.0 2019-10-13  128.0  23654.4  225.6  357.284375       19.2       25.3\n",
       "6921.0 2019-10-14  230.0  49021.2  346.0  361.449565       21.9       25.9\n",
       "6922.0 2019-10-15  137.0  23865.6  232.1  357.659854       24.0       27.2\n",
       "6923.0 2019-10-16  145.0  18452.4  206.2  353.496552       23.0       28.6\n",
       "\n",
       "[6835 rows x 7 columns]"
      ]
     },
     "execution_count": 1,
     "metadata": {},
     "output_type": "execute_result"
    }
   ],
   "source": [
    "import pandas as pd\n",
    "\n",
    "bushfires_df = pd.read_csv(\"/kaggle/input/yicte-bushfires-over-time/data.csv\", index_col=0)\n",
    "bushfires_df['acq_date'] = pd.to_datetime(bushfires_df['acq_date'])\n",
    "\n",
    "bushfires_df"
   ]
  },
  {
   "cell_type": "code",
   "execution_count": 2,
   "id": "cc122261",
   "metadata": {
    "execution": {
     "iopub.execute_input": "2023-07-08T00:18:32.376899Z",
     "iopub.status.busy": "2023-07-08T00:18:32.376098Z",
     "iopub.status.idle": "2023-07-08T00:18:32.389891Z",
     "shell.execute_reply": "2023-07-08T00:18:32.388732Z"
    },
    "papermill": {
     "duration": 0.023681,
     "end_time": "2023-07-08T00:18:32.392599",
     "exception": false,
     "start_time": "2023-07-08T00:18:32.368918",
     "status": "completed"
    },
    "tags": []
   },
   "outputs": [],
   "source": [
    "# Feature engineering to introduce seasonality concepts and trends.\n",
    "import numpy as np\n",
    "\n",
    "bushfires_df[\"time_sin\"] = np.sin((bushfires_df['acq_date'].dt.day_of_year / 365) * 2 * np.pi)\n",
    "bushfires_df[\"time_cos\"] = np.cos((bushfires_df['acq_date'].dt.day_of_year / 365) * 2 * np.pi)\n",
    "bushfires_df[\"year\"] = bushfires_df['acq_date'].dt.year"
   ]
  },
  {
   "cell_type": "code",
   "execution_count": 3,
   "id": "63e78180",
   "metadata": {
    "execution": {
     "iopub.execute_input": "2023-07-08T00:18:32.406156Z",
     "iopub.status.busy": "2023-07-08T00:18:32.405804Z",
     "iopub.status.idle": "2023-07-08T00:18:32.456610Z",
     "shell.execute_reply": "2023-07-08T00:18:32.455465Z"
    },
    "papermill": {
     "duration": 0.060869,
     "end_time": "2023-07-08T00:18:32.459506",
     "exception": false,
     "start_time": "2023-07-08T00:18:32.398637",
     "status": "completed"
    },
    "tags": []
   },
   "outputs": [],
   "source": [
    "# Group by month, average/sum, add a 'year' feature\n",
    "grouped_df = bushfires_df.groupby(pd.Grouper(freq='W', key='acq_date'))\n",
    "\n",
    "df = pd.DataFrame()\n",
    "\n",
    "df['scan'] = grouped_df['scan'].mean()\n",
    "df['max_t_syd'] = grouped_df['max_t_syd'].mean()\n",
    "df['max_t_bne'] = grouped_df['max_t_bne'].mean()\n",
    "df['time_sin'] = grouped_df['time_sin'].first()\n",
    "df['time_cos'] = grouped_df['time_cos'].first()\n",
    "df['year'] = grouped_df['year'].first() - 2000 # we'll count the years since approx when the data starts.\n",
    "\n",
    "df = df.dropna()"
   ]
  },
  {
   "cell_type": "code",
   "execution_count": 4,
   "id": "6351452b",
   "metadata": {
    "execution": {
     "iopub.execute_input": "2023-07-08T00:18:32.474341Z",
     "iopub.status.busy": "2023-07-08T00:18:32.473266Z",
     "iopub.status.idle": "2023-07-08T00:18:32.482178Z",
     "shell.execute_reply": "2023-07-08T00:18:32.481169Z"
    },
    "papermill": {
     "duration": 0.01851,
     "end_time": "2023-07-08T00:18:32.484729",
     "exception": false,
     "start_time": "2023-07-08T00:18:32.466219",
     "status": "completed"
    },
    "tags": []
   },
   "outputs": [],
   "source": [
    "# Split into train/test\n",
    "\n",
    "train_dataset = df.sample(frac=0.8, random_state=0)\n",
    "test_dataset = df.drop(train_dataset.index)\n",
    "\n",
    "train_features = train_dataset.copy()\n",
    "test_features = test_dataset.copy()\n",
    "\n",
    "train_labels = train_features.pop('scan')\n",
    "test_labels = test_features.pop('scan')"
   ]
  },
  {
   "cell_type": "code",
   "execution_count": 5,
   "id": "502b742b",
   "metadata": {
    "execution": {
     "iopub.execute_input": "2023-07-08T00:18:32.498814Z",
     "iopub.status.busy": "2023-07-08T00:18:32.498144Z",
     "iopub.status.idle": "2023-07-08T00:18:32.518156Z",
     "shell.execute_reply": "2023-07-08T00:18:32.516999Z"
    },
    "papermill": {
     "duration": 0.030161,
     "end_time": "2023-07-08T00:18:32.520921",
     "exception": false,
     "start_time": "2023-07-08T00:18:32.490760",
     "status": "completed"
    },
    "tags": []
   },
   "outputs": [
    {
     "data": {
      "text/html": [
       "<div>\n",
       "<style scoped>\n",
       "    .dataframe tbody tr th:only-of-type {\n",
       "        vertical-align: middle;\n",
       "    }\n",
       "\n",
       "    .dataframe tbody tr th {\n",
       "        vertical-align: top;\n",
       "    }\n",
       "\n",
       "    .dataframe thead th {\n",
       "        text-align: right;\n",
       "    }\n",
       "</style>\n",
       "<table border=\"1\" class=\"dataframe\">\n",
       "  <thead>\n",
       "    <tr style=\"text-align: right;\">\n",
       "      <th></th>\n",
       "      <th>scan</th>\n",
       "      <th>max_t_syd</th>\n",
       "      <th>max_t_bne</th>\n",
       "      <th>time_sin</th>\n",
       "      <th>time_cos</th>\n",
       "      <th>year</th>\n",
       "    </tr>\n",
       "    <tr>\n",
       "      <th>acq_date</th>\n",
       "      <th></th>\n",
       "      <th></th>\n",
       "      <th></th>\n",
       "      <th></th>\n",
       "      <th></th>\n",
       "      <th></th>\n",
       "    </tr>\n",
       "  </thead>\n",
       "  <tbody>\n",
       "    <tr>\n",
       "      <th>2007-08-05</th>\n",
       "      <td>82.400000</td>\n",
       "      <td>18.542857</td>\n",
       "      <td>23.585714</td>\n",
       "      <td>-0.471160</td>\n",
       "      <td>-0.882048</td>\n",
       "      <td>7.0</td>\n",
       "    </tr>\n",
       "    <tr>\n",
       "      <th>2009-03-01</th>\n",
       "      <td>30.285714</td>\n",
       "      <td>26.157143</td>\n",
       "      <td>30.542857</td>\n",
       "      <td>0.801361</td>\n",
       "      <td>0.598181</td>\n",
       "      <td>9.0</td>\n",
       "    </tr>\n",
       "    <tr>\n",
       "      <th>2001-05-13</th>\n",
       "      <td>119.657143</td>\n",
       "      <td>19.485714</td>\n",
       "      <td>25.142857</td>\n",
       "      <td>0.816538</td>\n",
       "      <td>-0.577292</td>\n",
       "      <td>1.0</td>\n",
       "    </tr>\n",
       "    <tr>\n",
       "      <th>2009-04-26</th>\n",
       "      <td>87.614286</td>\n",
       "      <td>22.371429</td>\n",
       "      <td>27.742857</td>\n",
       "      <td>0.948362</td>\n",
       "      <td>-0.317191</td>\n",
       "      <td>9.0</td>\n",
       "    </tr>\n",
       "    <tr>\n",
       "      <th>2014-08-17</th>\n",
       "      <td>132.500000</td>\n",
       "      <td>17.057143</td>\n",
       "      <td>21.857143</td>\n",
       "      <td>-0.642055</td>\n",
       "      <td>-0.766659</td>\n",
       "      <td>14.0</td>\n",
       "    </tr>\n",
       "    <tr>\n",
       "      <th>...</th>\n",
       "      <td>...</td>\n",
       "      <td>...</td>\n",
       "      <td>...</td>\n",
       "      <td>...</td>\n",
       "      <td>...</td>\n",
       "      <td>...</td>\n",
       "    </tr>\n",
       "    <tr>\n",
       "      <th>2009-10-11</th>\n",
       "      <td>484.742857</td>\n",
       "      <td>18.800000</td>\n",
       "      <td>26.428571</td>\n",
       "      <td>-0.997325</td>\n",
       "      <td>0.073095</td>\n",
       "      <td>9.0</td>\n",
       "    </tr>\n",
       "    <tr>\n",
       "      <th>2001-04-29</th>\n",
       "      <td>99.928571</td>\n",
       "      <td>23.514286</td>\n",
       "      <td>27.571429</td>\n",
       "      <td>0.930724</td>\n",
       "      <td>-0.365723</td>\n",
       "      <td>1.0</td>\n",
       "    </tr>\n",
       "    <tr>\n",
       "      <th>2002-12-29</th>\n",
       "      <td>350.028571</td>\n",
       "      <td>23.871429</td>\n",
       "      <td>28.714286</td>\n",
       "      <td>-0.137279</td>\n",
       "      <td>0.990532</td>\n",
       "      <td>2.0</td>\n",
       "    </tr>\n",
       "    <tr>\n",
       "      <th>2003-09-28</th>\n",
       "      <td>157.285714</td>\n",
       "      <td>26.385714</td>\n",
       "      <td>29.271429</td>\n",
       "      <td>-0.988678</td>\n",
       "      <td>-0.150055</td>\n",
       "      <td>3.0</td>\n",
       "    </tr>\n",
       "    <tr>\n",
       "      <th>2003-10-19</th>\n",
       "      <td>244.142857</td>\n",
       "      <td>22.228571</td>\n",
       "      <td>24.471429</td>\n",
       "      <td>-0.977848</td>\n",
       "      <td>0.209315</td>\n",
       "      <td>3.0</td>\n",
       "    </tr>\n",
       "  </tbody>\n",
       "</table>\n",
       "<p>790 rows × 6 columns</p>\n",
       "</div>"
      ],
      "text/plain": [
       "                  scan  max_t_syd  max_t_bne  time_sin  time_cos  year\n",
       "acq_date                                                              \n",
       "2007-08-05   82.400000  18.542857  23.585714 -0.471160 -0.882048   7.0\n",
       "2009-03-01   30.285714  26.157143  30.542857  0.801361  0.598181   9.0\n",
       "2001-05-13  119.657143  19.485714  25.142857  0.816538 -0.577292   1.0\n",
       "2009-04-26   87.614286  22.371429  27.742857  0.948362 -0.317191   9.0\n",
       "2014-08-17  132.500000  17.057143  21.857143 -0.642055 -0.766659  14.0\n",
       "...                ...        ...        ...       ...       ...   ...\n",
       "2009-10-11  484.742857  18.800000  26.428571 -0.997325  0.073095   9.0\n",
       "2001-04-29   99.928571  23.514286  27.571429  0.930724 -0.365723   1.0\n",
       "2002-12-29  350.028571  23.871429  28.714286 -0.137279  0.990532   2.0\n",
       "2003-09-28  157.285714  26.385714  29.271429 -0.988678 -0.150055   3.0\n",
       "2003-10-19  244.142857  22.228571  24.471429 -0.977848  0.209315   3.0\n",
       "\n",
       "[790 rows x 6 columns]"
      ]
     },
     "execution_count": 5,
     "metadata": {},
     "output_type": "execute_result"
    }
   ],
   "source": [
    "train_dataset"
   ]
  },
  {
   "cell_type": "code",
   "execution_count": 6,
   "id": "8e95e76e",
   "metadata": {
    "execution": {
     "iopub.execute_input": "2023-07-08T00:18:32.535652Z",
     "iopub.status.busy": "2023-07-08T00:18:32.534961Z",
     "iopub.status.idle": "2023-07-08T00:18:41.850286Z",
     "shell.execute_reply": "2023-07-08T00:18:41.849228Z"
    },
    "papermill": {
     "duration": 9.325319,
     "end_time": "2023-07-08T00:18:41.853085",
     "exception": false,
     "start_time": "2023-07-08T00:18:32.527766",
     "status": "completed"
    },
    "tags": []
   },
   "outputs": [
    {
     "name": "stderr",
     "output_type": "stream",
     "text": [
      "/opt/conda/lib/python3.10/site-packages/tensorflow_io/python/ops/__init__.py:98: UserWarning: unable to load libtensorflow_io_plugins.so: unable to open file: libtensorflow_io_plugins.so, from paths: ['/opt/conda/lib/python3.10/site-packages/tensorflow_io/python/ops/libtensorflow_io_plugins.so']\n",
      "caused by: ['/opt/conda/lib/python3.10/site-packages/tensorflow_io/python/ops/libtensorflow_io_plugins.so: undefined symbol: _ZN3tsl6StatusC1EN10tensorflow5error4CodeESt17basic_string_viewIcSt11char_traitsIcEENS_14SourceLocationE']\n",
      "  warnings.warn(f\"unable to load libtensorflow_io_plugins.so: {e}\")\n",
      "/opt/conda/lib/python3.10/site-packages/tensorflow_io/python/ops/__init__.py:104: UserWarning: file system plugins are not loaded: unable to open file: libtensorflow_io.so, from paths: ['/opt/conda/lib/python3.10/site-packages/tensorflow_io/python/ops/libtensorflow_io.so']\n",
      "caused by: ['/opt/conda/lib/python3.10/site-packages/tensorflow_io/python/ops/libtensorflow_io.so: undefined symbol: _ZTVN10tensorflow13GcsFileSystemE']\n",
      "  warnings.warn(f\"file system plugins are not loaded: {e}\")\n"
     ]
    }
   ],
   "source": [
    "import tensorflow as tf"
   ]
  },
  {
   "cell_type": "code",
   "execution_count": 7,
   "id": "9786b9dd",
   "metadata": {
    "execution": {
     "iopub.execute_input": "2023-07-08T00:18:41.869150Z",
     "iopub.status.busy": "2023-07-08T00:18:41.867834Z",
     "iopub.status.idle": "2023-07-08T00:18:41.876176Z",
     "shell.execute_reply": "2023-07-08T00:18:41.875126Z"
    },
    "papermill": {
     "duration": 0.019587,
     "end_time": "2023-07-08T00:18:41.878815",
     "exception": false,
     "start_time": "2023-07-08T00:18:41.859228",
     "status": "completed"
    },
    "tags": []
   },
   "outputs": [],
   "source": [
    "# Utility function for the model\n",
    "def build_and_compile_model():\n",
    "    model = tf.keras.Sequential([\n",
    "        tf.keras.layers.Dense(16, activation='relu'), # Input layer\n",
    "        tf.keras.layers.Dense(64, activation='relu'), # Hidden layer\n",
    "        tf.keras.layers.Dense(64, activation='relu'),\n",
    "        tf.keras.layers.Dense(1) # Output layer\n",
    "    ])\n",
    "\n",
    "    model.compile(loss='mean_absolute_error',\n",
    "                optimizer=tf.keras.optimizers.Adam(learning_rate=0.001, clipnorm=1.))\n",
    "    return model"
   ]
  },
  {
   "cell_type": "code",
   "execution_count": 8,
   "id": "f6813a4a",
   "metadata": {
    "execution": {
     "iopub.execute_input": "2023-07-08T00:18:41.893683Z",
     "iopub.status.busy": "2023-07-08T00:18:41.892715Z",
     "iopub.status.idle": "2023-07-08T00:18:41.899025Z",
     "shell.execute_reply": "2023-07-08T00:18:41.897997Z"
    },
    "papermill": {
     "duration": 0.016135,
     "end_time": "2023-07-08T00:18:41.901377",
     "exception": false,
     "start_time": "2023-07-08T00:18:41.885242",
     "status": "completed"
    },
    "tags": []
   },
   "outputs": [],
   "source": [
    "# Utility function for plotting loss\n",
    "import matplotlib.pyplot as plt\n",
    "\n",
    "def plot_loss(history):\n",
    "    plt.plot(history.history['loss'], label='loss')\n",
    "    plt.plot(history.history['val_loss'], label='val_loss')\n",
    "    plt.xlabel('Epoch')\n",
    "    plt.ylabel('Error')\n",
    "    plt.legend()\n",
    "    plt.grid(True)"
   ]
  },
  {
   "cell_type": "code",
   "execution_count": 9,
   "id": "6a23fb00",
   "metadata": {
    "execution": {
     "iopub.execute_input": "2023-07-08T00:18:41.916227Z",
     "iopub.status.busy": "2023-07-08T00:18:41.915222Z",
     "iopub.status.idle": "2023-07-08T00:22:23.488352Z",
     "shell.execute_reply": "2023-07-08T00:22:23.487177Z"
    },
    "papermill": {
     "duration": 221.583801,
     "end_time": "2023-07-08T00:22:23.491419",
     "exception": false,
     "start_time": "2023-07-08T00:18:41.907618",
     "status": "completed"
    },
    "tags": []
   },
   "outputs": [],
   "source": [
    "model = build_and_compile_model()\n",
    "\n",
    "history = model.fit(\n",
    "    train_features,\n",
    "    train_labels,\n",
    "    validation_data=(test_features, test_labels),\n",
    "    verbose=0, epochs=1600)"
   ]
  },
  {
   "cell_type": "code",
   "execution_count": 10,
   "id": "0e16d5b4",
   "metadata": {
    "execution": {
     "iopub.execute_input": "2023-07-08T00:22:23.506107Z",
     "iopub.status.busy": "2023-07-08T00:22:23.505740Z",
     "iopub.status.idle": "2023-07-08T00:22:23.522509Z",
     "shell.execute_reply": "2023-07-08T00:22:23.521387Z"
    },
    "papermill": {
     "duration": 0.026908,
     "end_time": "2023-07-08T00:22:23.524950",
     "exception": false,
     "start_time": "2023-07-08T00:22:23.498042",
     "status": "completed"
    },
    "tags": []
   },
   "outputs": [
    {
     "data": {
      "text/html": [
       "<div>\n",
       "<style scoped>\n",
       "    .dataframe tbody tr th:only-of-type {\n",
       "        vertical-align: middle;\n",
       "    }\n",
       "\n",
       "    .dataframe tbody tr th {\n",
       "        vertical-align: top;\n",
       "    }\n",
       "\n",
       "    .dataframe thead th {\n",
       "        text-align: right;\n",
       "    }\n",
       "</style>\n",
       "<table border=\"1\" class=\"dataframe\">\n",
       "  <thead>\n",
       "    <tr style=\"text-align: right;\">\n",
       "      <th></th>\n",
       "      <th>loss</th>\n",
       "      <th>val_loss</th>\n",
       "    </tr>\n",
       "  </thead>\n",
       "  <tbody>\n",
       "    <tr>\n",
       "      <th>0</th>\n",
       "      <td>194.242813</td>\n",
       "      <td>171.551300</td>\n",
       "    </tr>\n",
       "    <tr>\n",
       "      <th>1</th>\n",
       "      <td>166.410706</td>\n",
       "      <td>154.017151</td>\n",
       "    </tr>\n",
       "    <tr>\n",
       "      <th>2</th>\n",
       "      <td>158.672867</td>\n",
       "      <td>153.708603</td>\n",
       "    </tr>\n",
       "    <tr>\n",
       "      <th>3</th>\n",
       "      <td>158.449341</td>\n",
       "      <td>153.388763</td>\n",
       "    </tr>\n",
       "    <tr>\n",
       "      <th>4</th>\n",
       "      <td>158.226974</td>\n",
       "      <td>153.180984</td>\n",
       "    </tr>\n",
       "    <tr>\n",
       "      <th>...</th>\n",
       "      <td>...</td>\n",
       "      <td>...</td>\n",
       "    </tr>\n",
       "    <tr>\n",
       "      <th>1595</th>\n",
       "      <td>107.766670</td>\n",
       "      <td>115.053009</td>\n",
       "    </tr>\n",
       "    <tr>\n",
       "      <th>1596</th>\n",
       "      <td>110.024666</td>\n",
       "      <td>113.592781</td>\n",
       "    </tr>\n",
       "    <tr>\n",
       "      <th>1597</th>\n",
       "      <td>107.786835</td>\n",
       "      <td>114.450523</td>\n",
       "    </tr>\n",
       "    <tr>\n",
       "      <th>1598</th>\n",
       "      <td>109.286636</td>\n",
       "      <td>110.813835</td>\n",
       "    </tr>\n",
       "    <tr>\n",
       "      <th>1599</th>\n",
       "      <td>108.669434</td>\n",
       "      <td>113.096230</td>\n",
       "    </tr>\n",
       "  </tbody>\n",
       "</table>\n",
       "<p>1600 rows × 2 columns</p>\n",
       "</div>"
      ],
      "text/plain": [
       "            loss    val_loss\n",
       "0     194.242813  171.551300\n",
       "1     166.410706  154.017151\n",
       "2     158.672867  153.708603\n",
       "3     158.449341  153.388763\n",
       "4     158.226974  153.180984\n",
       "...          ...         ...\n",
       "1595  107.766670  115.053009\n",
       "1596  110.024666  113.592781\n",
       "1597  107.786835  114.450523\n",
       "1598  109.286636  110.813835\n",
       "1599  108.669434  113.096230\n",
       "\n",
       "[1600 rows x 2 columns]"
      ]
     },
     "execution_count": 10,
     "metadata": {},
     "output_type": "execute_result"
    }
   ],
   "source": [
    "pd.DataFrame(history.history)"
   ]
  },
  {
   "cell_type": "code",
   "execution_count": 11,
   "id": "8e324b3a",
   "metadata": {
    "execution": {
     "iopub.execute_input": "2023-07-08T00:22:23.540794Z",
     "iopub.status.busy": "2023-07-08T00:22:23.540408Z",
     "iopub.status.idle": "2023-07-08T00:22:23.932129Z",
     "shell.execute_reply": "2023-07-08T00:22:23.931136Z"
    },
    "papermill": {
     "duration": 0.40209,
     "end_time": "2023-07-08T00:22:23.934508",
     "exception": false,
     "start_time": "2023-07-08T00:22:23.532418",
     "status": "completed"
    },
    "tags": []
   },
   "outputs": [
    {
     "data": {
      "image/png": "[encoded data removed]",
      "text/plain": [
       "<Figure size 640x480 with 1 Axes>"
      ]
     },
     "metadata": {},
     "output_type": "display_data"
    }
   ],
   "source": [
    "plot_loss(history)"
   ]
  },
  {
   "cell_type": "code",
   "execution_count": 12,
   "id": "e4c72231",
   "metadata": {
    "execution": {
     "iopub.execute_input": "2023-07-08T00:22:23.951243Z",
     "iopub.status.busy": "2023-07-08T00:22:23.950351Z",
     "iopub.status.idle": "2023-07-08T00:22:24.575787Z",
     "shell.execute_reply": "2023-07-08T00:22:24.574463Z"
    },
    "papermill": {
     "duration": 0.637019,
     "end_time": "2023-07-08T00:22:24.578727",
     "exception": false,
     "start_time": "2023-07-08T00:22:23.941708",
     "status": "completed"
    },
    "tags": []
   },
   "outputs": [
    {
     "name": "stdout",
     "output_type": "stream",
     "text": [
      "7/7 [==============================] - 0s 2ms/step\n"
     ]
    },
    {
     "data": {
      "text/plain": [
       "<matplotlib.legend.Legend at 0x7f1c5856cdf0>"
      ]
     },
     "execution_count": 12,
     "metadata": {},
     "output_type": "execute_result"
    },
    {
     "data": {
      "image/png": "[encoded data removed]",
      "text/plain": [
       "<Figure size 640x480 with 1 Axes>"
      ]
     },
     "metadata": {},
     "output_type": "display_data"
    }
   ],
   "source": [
    "plt.plot(model.predict(test_features), label=\"Prediction\")\n",
    "plt.plot(test_labels.reset_index()['scan'], label=\"Actual\")\n",
    "plt.xlabel(\"Index\")\n",
    "plt.ylabel(\"Fire Scan Area\")\n",
    "plt.legend()"
   ]
  },
  {
   "cell_type": "code",
   "execution_count": 13,
   "id": "cc3c5dbd",
   "metadata": {
    "execution": {
     "iopub.execute_input": "2023-07-08T00:22:24.597809Z",
     "iopub.status.busy": "2023-07-08T00:22:24.597420Z",
     "iopub.status.idle": "2023-07-08T00:22:24.683909Z",
     "shell.execute_reply": "2023-07-08T00:22:24.682741Z"
    },
    "papermill": {
     "duration": 0.099033,
     "end_time": "2023-07-08T00:22:24.686403",
     "exception": false,
     "start_time": "2023-07-08T00:22:24.587370",
     "status": "completed"
    },
    "tags": []
   },
   "outputs": [
    {
     "name": "stdout",
     "output_type": "stream",
     "text": [
      "1/1 [==============================] - 0s 24ms/step\n"
     ]
    },
    {
     "data": {
      "text/plain": [
       "array([[249.11516]], dtype=float32)"
      ]
     },
     "execution_count": 13,
     "metadata": {},
     "output_type": "execute_result"
    }
   ],
   "source": [
    "# testing with some crazy data just because it's funny\n",
    "new_data = {\n",
    "    \"max_t_syd\": [34.023],\n",
    "    \"max_t_bne\": [35.253],\n",
    "    \"time_sin\": [0.017213],\n",
    "    \"time_cos\": [0.999852],\n",
    "    \"year\": [52.0]\n",
    "}\n",
    "\n",
    "new_df = pd.DataFrame(data=new_data)\n",
    "\n",
    "model.predict(new_df)"
   ]
  },
  {
   "cell_type": "code",
   "execution_count": 14,
   "id": "a9429494",
   "metadata": {
    "execution": {
     "iopub.execute_input": "2023-07-08T00:22:24.707368Z",
     "iopub.status.busy": "2023-07-08T00:22:24.706939Z",
     "iopub.status.idle": "2023-07-08T00:22:24.750987Z",
     "shell.execute_reply": "2023-07-08T00:22:24.749754Z"
    },
    "papermill": {
     "duration": 0.057672,
     "end_time": "2023-07-08T00:22:24.754259",
     "exception": false,
     "start_time": "2023-07-08T00:22:24.696587",
     "status": "completed"
    },
    "tags": []
   },
   "outputs": [],
   "source": [
    "model.save(\"/kaggle/working/model.keras\")"
   ]
  },
  {
   "cell_type": "code",
   "execution_count": 15,
   "id": "a881b654",
   "metadata": {
    "execution": {
     "iopub.execute_input": "2023-07-08T00:22:24.774121Z",
     "iopub.status.busy": "2023-07-08T00:22:24.773740Z",
     "iopub.status.idle": "2023-07-08T00:22:25.027658Z",
     "shell.execute_reply": "2023-07-08T00:22:25.026428Z"
    },
    "papermill": {
     "duration": 0.266992,
     "end_time": "2023-07-08T00:22:25.030392",
     "exception": false,
     "start_time": "2023-07-08T00:22:24.763400",
     "status": "completed"
    },
    "tags": []
   },
   "outputs": [
    {
     "name": "stdout",
     "output_type": "stream",
     "text": [
      "1/1 [==============================] - 0s 78ms/step\n"
     ]
    },
    {
     "data": {
      "text/plain": [
       "array([[249.11516]], dtype=float32)"
      ]
     },
     "execution_count": 15,
     "metadata": {},
     "output_type": "execute_result"
    }
   ],
   "source": [
    "# testing that model loading works\n",
    "import keras\n",
    "\n",
    "loaded_model = keras.models.load_model('/kaggle/working/model.keras')\n",
    "\n",
    "loaded_model.predict(new_df)"
   ]
  }
 ],
 "metadata": {
  "kernelspec": {
   "display_name": "Python 3",
   "language": "python",
   "name": "python3"
  },
  "language_info": {
   "codemirror_mode": {
    "name": "ipython",
    "version": 3
   },
   "file_extension": ".py",
   "mimetype": "text/x-python",
   "name": "python",
   "nbconvert_exporter": "python",
   "pygments_lexer": "ipython3",
   "version": "3.10.10"
  },
  "papermill": {
   "default_parameters": {},
   "duration": 249.59818,
   "end_time": "2023-07-08T00:22:28.797780",
   "environment_variables": {},
   "exception": null,
   "input_path": "__notebook__.ipynb",
   "output_path": "__notebook__.ipynb",
   "parameters": {},
   "start_time": "2023-07-08T00:18:19.199600",
   "version": "2.4.0"
  }
 },
 "nbformat": 4,
 "nbformat_minor": 5
}
