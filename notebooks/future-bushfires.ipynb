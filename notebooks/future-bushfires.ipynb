{
 "cells": [
  {
   "cell_type": "markdown",
   "id": "d7f26006",
   "metadata": {
    "papermill": {
     "duration": 0.005048,
     "end_time": "2023-07-14T10:59:55.686384",
     "exception": false,
     "start_time": "2023-07-14T10:59:55.681336",
     "status": "completed"
    },
    "tags": []
   },
   "source": [
    "# Part C: Using a DNN to Estimate Area Of Future Fires\n"
   ]
  },
  {
   "cell_type": "code",
   "execution_count": 138,
   "id": "ddd905c6",
   "metadata": {
    "execution": {
     "iopub.execute_input": "2023-07-14T10:59:55.697691Z",
     "iopub.status.busy": "2023-07-14T10:59:55.696691Z",
     "iopub.status.idle": "2023-07-14T10:59:55.772007Z",
     "shell.execute_reply": "2023-07-14T10:59:55.771157Z"
    },
    "papermill": {
     "duration": 0.083479,
     "end_time": "2023-07-14T10:59:55.774497",
     "exception": false,
     "start_time": "2023-07-14T10:59:55.691018",
     "status": "completed"
    },
    "tags": []
   },
   "outputs": [
    {
     "data": {
      "text/html": [
       "<div>\n",
       "<style scoped>\n",
       "    .dataframe tbody tr th:only-of-type {\n",
       "        vertical-align: middle;\n",
       "    }\n",
       "\n",
       "    .dataframe tbody tr th {\n",
       "        vertical-align: top;\n",
       "    }\n",
       "\n",
       "    .dataframe thead th {\n",
       "        text-align: right;\n",
       "    }\n",
       "</style>\n",
       "<table border=\"1\" class=\"dataframe\">\n",
       "  <thead>\n",
       "    <tr style=\"text-align: right;\">\n",
       "      <th></th>\n",
       "      <th>Unnamed: 0</th>\n",
       "      <th>acq_date</th>\n",
       "      <th>fires</th>\n",
       "      <th>frp</th>\n",
       "      <th>scan</th>\n",
       "      <th>brightness</th>\n",
       "      <th>max_t_syd</th>\n",
       "      <th>max_t_bne</th>\n",
       "      <th>soi</th>\n",
       "    </tr>\n",
       "  </thead>\n",
       "  <tbody>\n",
       "    <tr>\n",
       "      <th>0</th>\n",
       "      <td>0.0</td>\n",
       "      <td>2000-11-01</td>\n",
       "      <td>104.0</td>\n",
       "      <td>17572.6</td>\n",
       "      <td>195.4</td>\n",
       "      <td>357.982692</td>\n",
       "      <td>22.8</td>\n",
       "      <td>27.0</td>\n",
       "      <td>22.4</td>\n",
       "    </tr>\n",
       "    <tr>\n",
       "      <th>1</th>\n",
       "      <td>1.0</td>\n",
       "      <td>2000-11-02</td>\n",
       "      <td>211.0</td>\n",
       "      <td>45603.4</td>\n",
       "      <td>307.3</td>\n",
       "      <td>351.112322</td>\n",
       "      <td>22.3</td>\n",
       "      <td>24.0</td>\n",
       "      <td>22.4</td>\n",
       "    </tr>\n",
       "    <tr>\n",
       "      <th>2</th>\n",
       "      <td>2.0</td>\n",
       "      <td>2000-11-03</td>\n",
       "      <td>181.0</td>\n",
       "      <td>27439.3</td>\n",
       "      <td>325.8</td>\n",
       "      <td>353.117680</td>\n",
       "      <td>23.8</td>\n",
       "      <td>26.0</td>\n",
       "      <td>22.4</td>\n",
       "    </tr>\n",
       "    <tr>\n",
       "      <th>3</th>\n",
       "      <td>3.0</td>\n",
       "      <td>2000-11-04</td>\n",
       "      <td>239.0</td>\n",
       "      <td>29887.1</td>\n",
       "      <td>299.7</td>\n",
       "      <td>361.599163</td>\n",
       "      <td>23.0</td>\n",
       "      <td>28.0</td>\n",
       "      <td>22.4</td>\n",
       "    </tr>\n",
       "    <tr>\n",
       "      <th>4</th>\n",
       "      <td>4.0</td>\n",
       "      <td>2000-11-05</td>\n",
       "      <td>43.0</td>\n",
       "      <td>7193.7</td>\n",
       "      <td>92.0</td>\n",
       "      <td>347.181395</td>\n",
       "      <td>21.4</td>\n",
       "      <td>28.0</td>\n",
       "      <td>22.4</td>\n",
       "    </tr>\n",
       "    <tr>\n",
       "      <th>...</th>\n",
       "      <td>...</td>\n",
       "      <td>...</td>\n",
       "      <td>...</td>\n",
       "      <td>...</td>\n",
       "      <td>...</td>\n",
       "      <td>...</td>\n",
       "      <td>...</td>\n",
       "      <td>...</td>\n",
       "      <td>...</td>\n",
       "    </tr>\n",
       "    <tr>\n",
       "      <th>6830</th>\n",
       "      <td>6919.0</td>\n",
       "      <td>2019-10-12</td>\n",
       "      <td>211.0</td>\n",
       "      <td>36282.4</td>\n",
       "      <td>312.8</td>\n",
       "      <td>361.617062</td>\n",
       "      <td>20.4</td>\n",
       "      <td>21.3</td>\n",
       "      <td>-5.6</td>\n",
       "    </tr>\n",
       "    <tr>\n",
       "      <th>6831</th>\n",
       "      <td>6920.0</td>\n",
       "      <td>2019-10-13</td>\n",
       "      <td>128.0</td>\n",
       "      <td>23654.4</td>\n",
       "      <td>225.6</td>\n",
       "      <td>357.284375</td>\n",
       "      <td>19.2</td>\n",
       "      <td>25.3</td>\n",
       "      <td>-5.6</td>\n",
       "    </tr>\n",
       "    <tr>\n",
       "      <th>6832</th>\n",
       "      <td>6921.0</td>\n",
       "      <td>2019-10-14</td>\n",
       "      <td>230.0</td>\n",
       "      <td>49021.2</td>\n",
       "      <td>346.0</td>\n",
       "      <td>361.449565</td>\n",
       "      <td>21.9</td>\n",
       "      <td>25.9</td>\n",
       "      <td>-5.6</td>\n",
       "    </tr>\n",
       "    <tr>\n",
       "      <th>6833</th>\n",
       "      <td>6922.0</td>\n",
       "      <td>2019-10-15</td>\n",
       "      <td>137.0</td>\n",
       "      <td>23865.6</td>\n",
       "      <td>232.1</td>\n",
       "      <td>357.659854</td>\n",
       "      <td>24.0</td>\n",
       "      <td>27.2</td>\n",
       "      <td>-5.6</td>\n",
       "    </tr>\n",
       "    <tr>\n",
       "      <th>6834</th>\n",
       "      <td>6923.0</td>\n",
       "      <td>2019-10-16</td>\n",
       "      <td>145.0</td>\n",
       "      <td>18452.4</td>\n",
       "      <td>206.2</td>\n",
       "      <td>353.496552</td>\n",
       "      <td>23.0</td>\n",
       "      <td>28.6</td>\n",
       "      <td>-5.6</td>\n",
       "    </tr>\n",
       "  </tbody>\n",
       "</table>\n",
       "<p>6835 rows × 9 columns</p>\n",
       "</div>"
      ],
      "text/plain": [
       "      Unnamed: 0   acq_date  fires      frp   scan  brightness  max_t_syd  \\\n",
       "0            0.0 2000-11-01  104.0  17572.6  195.4  357.982692       22.8   \n",
       "1            1.0 2000-11-02  211.0  45603.4  307.3  351.112322       22.3   \n",
       "2            2.0 2000-11-03  181.0  27439.3  325.8  353.117680       23.8   \n",
       "3            3.0 2000-11-04  239.0  29887.1  299.7  361.599163       23.0   \n",
       "4            4.0 2000-11-05   43.0   7193.7   92.0  347.181395       21.4   \n",
       "...          ...        ...    ...      ...    ...         ...        ...   \n",
       "6830      6919.0 2019-10-12  211.0  36282.4  312.8  361.617062       20.4   \n",
       "6831      6920.0 2019-10-13  128.0  23654.4  225.6  357.284375       19.2   \n",
       "6832      6921.0 2019-10-14  230.0  49021.2  346.0  361.449565       21.9   \n",
       "6833      6922.0 2019-10-15  137.0  23865.6  232.1  357.659854       24.0   \n",
       "6834      6923.0 2019-10-16  145.0  18452.4  206.2  353.496552       23.0   \n",
       "\n",
       "      max_t_bne   soi  \n",
       "0          27.0  22.4  \n",
       "1          24.0  22.4  \n",
       "2          26.0  22.4  \n",
       "3          28.0  22.4  \n",
       "4          28.0  22.4  \n",
       "...         ...   ...  \n",
       "6830       21.3  -5.6  \n",
       "6831       25.3  -5.6  \n",
       "6832       25.9  -5.6  \n",
       "6833       27.2  -5.6  \n",
       "6834       28.6  -5.6  \n",
       "\n",
       "[6835 rows x 9 columns]"
      ]
     },
     "execution_count": 138,
     "metadata": {},
     "output_type": "execute_result"
    }
   ],
   "source": [
    "import pandas as pd\n",
    "\n",
    "bushfires_df = pd.read_csv(\"../data/data.csv\", index_col=0)\n",
    "bushfires_df['acq_date'] = pd.to_datetime(bushfires_df['acq_date'])\n",
    "\n",
    "bushfires_df"
   ]
  },
  {
   "cell_type": "code",
   "execution_count": 139,
   "id": "9da3a602",
   "metadata": {
    "execution": {
     "iopub.execute_input": "2023-07-14T10:59:55.786914Z",
     "iopub.status.busy": "2023-07-14T10:59:55.785516Z",
     "iopub.status.idle": "2023-07-14T10:59:55.796368Z",
     "shell.execute_reply": "2023-07-14T10:59:55.795521Z"
    },
    "papermill": {
     "duration": 0.018737,
     "end_time": "2023-07-14T10:59:55.798341",
     "exception": false,
     "start_time": "2023-07-14T10:59:55.779604",
     "status": "completed"
    },
    "tags": []
   },
   "outputs": [],
   "source": [
    "# Feature engineering to introduce seasonality concepts and trends.\n",
    "import numpy as np\n",
    "\n",
    "bushfires_df[\"time_sin\"] = np.sin((bushfires_df['acq_date'].dt.day_of_year / 365) * 2 * np.pi)\n",
    "bushfires_df[\"time_cos\"] = np.cos((bushfires_df['acq_date'].dt.day_of_year / 365) * 2 * np.pi)\n",
    "bushfires_df[\"year\"] = bushfires_df['acq_date'].dt.year"
   ]
  },
  {
   "cell_type": "code",
   "execution_count": 140,
   "id": "9997abe5",
   "metadata": {
    "execution": {
     "iopub.execute_input": "2023-07-14T10:59:55.809888Z",
     "iopub.status.busy": "2023-07-14T10:59:55.808467Z",
     "iopub.status.idle": "2023-07-14T10:59:55.852243Z",
     "shell.execute_reply": "2023-07-14T10:59:55.851212Z"
    },
    "papermill": {
     "duration": 0.05155,
     "end_time": "2023-07-14T10:59:55.854498",
     "exception": false,
     "start_time": "2023-07-14T10:59:55.802948",
     "status": "completed"
    },
    "tags": []
   },
   "outputs": [],
   "source": [
    "df = pd.DataFrame()\n",
    "\n",
    "df['acq_date'] = bushfires_df['acq_date']\n",
    "df['scan'] = bushfires_df['scan']\n",
    "df['max_t_syd'] = bushfires_df['max_t_syd']\n",
    "df['max_t_bne'] = bushfires_df['max_t_bne']\n",
    "df['time_sin'] = bushfires_df['time_sin']\n",
    "df['time_cos'] = bushfires_df['time_cos']\n",
    "df['soi'] = bushfires_df['soi']\n",
    "df['year'] = bushfires_df['year']\n",
    "\n",
    "df = df.dropna()"
   ]
  },
  {
   "cell_type": "code",
   "execution_count": 141,
   "id": "4f2f70c6",
   "metadata": {
    "execution": {
     "iopub.execute_input": "2023-07-14T10:59:55.886988Z",
     "iopub.status.busy": "2023-07-14T10:59:55.885655Z",
     "iopub.status.idle": "2023-07-14T10:59:55.906806Z",
     "shell.execute_reply": "2023-07-14T10:59:55.905972Z"
    },
    "papermill": {
     "duration": 0.029045,
     "end_time": "2023-07-14T10:59:55.909082",
     "exception": false,
     "start_time": "2023-07-14T10:59:55.880037",
     "status": "completed"
    },
    "tags": []
   },
   "outputs": [
    {
     "data": {
      "text/html": [
       "<div>\n",
       "<style scoped>\n",
       "    .dataframe tbody tr th:only-of-type {\n",
       "        vertical-align: middle;\n",
       "    }\n",
       "\n",
       "    .dataframe tbody tr th {\n",
       "        vertical-align: top;\n",
       "    }\n",
       "\n",
       "    .dataframe thead th {\n",
       "        text-align: right;\n",
       "    }\n",
       "</style>\n",
       "<table border=\"1\" class=\"dataframe\">\n",
       "  <thead>\n",
       "    <tr style=\"text-align: right;\">\n",
       "      <th></th>\n",
       "      <th>acq_date</th>\n",
       "      <th>scan</th>\n",
       "      <th>max_t_syd</th>\n",
       "      <th>max_t_bne</th>\n",
       "      <th>time_sin</th>\n",
       "      <th>time_cos</th>\n",
       "      <th>soi</th>\n",
       "      <th>year</th>\n",
       "    </tr>\n",
       "  </thead>\n",
       "  <tbody>\n",
       "    <tr>\n",
       "      <th>3478</th>\n",
       "      <td>2010-07-06</td>\n",
       "      <td>1.0</td>\n",
       "      <td>17.2</td>\n",
       "      <td>22.5</td>\n",
       "      <td>-0.077386</td>\n",
       "      <td>-0.997001</td>\n",
       "      <td>20.5</td>\n",
       "      <td>2010</td>\n",
       "    </tr>\n",
       "    <tr>\n",
       "      <th>2628</th>\n",
       "      <td>2008-02-28</td>\n",
       "      <td>1.0</td>\n",
       "      <td>21.4</td>\n",
       "      <td>29.5</td>\n",
       "      <td>0.849817</td>\n",
       "      <td>0.527078</td>\n",
       "      <td>21.3</td>\n",
       "      <td>2008</td>\n",
       "    </tr>\n",
       "    <tr>\n",
       "      <th>5499</th>\n",
       "      <td>2016-01-31</td>\n",
       "      <td>1.0</td>\n",
       "      <td>31.1</td>\n",
       "      <td>34.0</td>\n",
       "      <td>0.508671</td>\n",
       "      <td>0.860961</td>\n",
       "      <td>-19.7</td>\n",
       "      <td>2016</td>\n",
       "    </tr>\n",
       "    <tr>\n",
       "      <th>5505</th>\n",
       "      <td>2016-02-06</td>\n",
       "      <td>1.0</td>\n",
       "      <td>27.0</td>\n",
       "      <td>29.9</td>\n",
       "      <td>0.594727</td>\n",
       "      <td>0.803928</td>\n",
       "      <td>-19.7</td>\n",
       "      <td>2016</td>\n",
       "    </tr>\n",
       "    <tr>\n",
       "      <th>1158</th>\n",
       "      <td>2004-02-05</td>\n",
       "      <td>1.0</td>\n",
       "      <td>26.4</td>\n",
       "      <td>27.9</td>\n",
       "      <td>0.580800</td>\n",
       "      <td>0.814046</td>\n",
       "      <td>9.1</td>\n",
       "      <td>2004</td>\n",
       "    </tr>\n",
       "    <tr>\n",
       "      <th>...</th>\n",
       "      <td>...</td>\n",
       "      <td>...</td>\n",
       "      <td>...</td>\n",
       "      <td>...</td>\n",
       "      <td>...</td>\n",
       "      <td>...</td>\n",
       "      <td>...</td>\n",
       "      <td>...</td>\n",
       "    </tr>\n",
       "    <tr>\n",
       "      <th>4310</th>\n",
       "      <td>2012-10-20</td>\n",
       "      <td>3719.3</td>\n",
       "      <td>33.8</td>\n",
       "      <td>30.2</td>\n",
       "      <td>-0.939856</td>\n",
       "      <td>0.341571</td>\n",
       "      <td>2.4</td>\n",
       "      <td>2012</td>\n",
       "    </tr>\n",
       "    <tr>\n",
       "      <th>4313</th>\n",
       "      <td>2012-10-23</td>\n",
       "      <td>4687.7</td>\n",
       "      <td>19.5</td>\n",
       "      <td>24.8</td>\n",
       "      <td>-0.920971</td>\n",
       "      <td>0.389630</td>\n",
       "      <td>2.4</td>\n",
       "      <td>2012</td>\n",
       "    </tr>\n",
       "    <tr>\n",
       "      <th>697</th>\n",
       "      <td>2002-11-01</td>\n",
       "      <td>4722.2</td>\n",
       "      <td>24.5</td>\n",
       "      <td>30.0</td>\n",
       "      <td>-0.858764</td>\n",
       "      <td>0.512371</td>\n",
       "      <td>-6.0</td>\n",
       "      <td>2002</td>\n",
       "    </tr>\n",
       "    <tr>\n",
       "      <th>4312</th>\n",
       "      <td>2012-10-22</td>\n",
       "      <td>5576.4</td>\n",
       "      <td>18.7</td>\n",
       "      <td>33.2</td>\n",
       "      <td>-0.927542</td>\n",
       "      <td>0.373720</td>\n",
       "      <td>2.4</td>\n",
       "      <td>2012</td>\n",
       "    </tr>\n",
       "    <tr>\n",
       "      <th>3915</th>\n",
       "      <td>2011-09-19</td>\n",
       "      <td>5854.7</td>\n",
       "      <td>26.0</td>\n",
       "      <td>30.6</td>\n",
       "      <td>-0.979614</td>\n",
       "      <td>-0.200891</td>\n",
       "      <td>11.7</td>\n",
       "      <td>2011</td>\n",
       "    </tr>\n",
       "  </tbody>\n",
       "</table>\n",
       "<p>6835 rows × 8 columns</p>\n",
       "</div>"
      ],
      "text/plain": [
       "       acq_date    scan  max_t_syd  max_t_bne  time_sin  time_cos   soi  year\n",
       "3478 2010-07-06     1.0       17.2       22.5 -0.077386 -0.997001  20.5  2010\n",
       "2628 2008-02-28     1.0       21.4       29.5  0.849817  0.527078  21.3  2008\n",
       "5499 2016-01-31     1.0       31.1       34.0  0.508671  0.860961 -19.7  2016\n",
       "5505 2016-02-06     1.0       27.0       29.9  0.594727  0.803928 -19.7  2016\n",
       "1158 2004-02-05     1.0       26.4       27.9  0.580800  0.814046   9.1  2004\n",
       "...         ...     ...        ...        ...       ...       ...   ...   ...\n",
       "4310 2012-10-20  3719.3       33.8       30.2 -0.939856  0.341571   2.4  2012\n",
       "4313 2012-10-23  4687.7       19.5       24.8 -0.920971  0.389630   2.4  2012\n",
       "697  2002-11-01  4722.2       24.5       30.0 -0.858764  0.512371  -6.0  2002\n",
       "4312 2012-10-22  5576.4       18.7       33.2 -0.927542  0.373720   2.4  2012\n",
       "3915 2011-09-19  5854.7       26.0       30.6 -0.979614 -0.200891  11.7  2011\n",
       "\n",
       "[6835 rows x 8 columns]"
      ]
     },
     "execution_count": 141,
     "metadata": {},
     "output_type": "execute_result"
    }
   ],
   "source": [
    "# Preview what sort of data is in here.\n",
    "df = df.sort_values([\"scan\"])\n",
    "\n",
    "df"
   ]
  },
  {
   "cell_type": "code",
   "execution_count": 142,
   "id": "ce22cab3",
   "metadata": {},
   "outputs": [
    {
     "data": {
      "text/html": [
       "<div>\n",
       "<style scoped>\n",
       "    .dataframe tbody tr th:only-of-type {\n",
       "        vertical-align: middle;\n",
       "    }\n",
       "\n",
       "    .dataframe tbody tr th {\n",
       "        vertical-align: top;\n",
       "    }\n",
       "\n",
       "    .dataframe thead th {\n",
       "        text-align: right;\n",
       "    }\n",
       "</style>\n",
       "<table border=\"1\" class=\"dataframe\">\n",
       "  <thead>\n",
       "    <tr style=\"text-align: right;\">\n",
       "      <th></th>\n",
       "      <th>scan</th>\n",
       "      <th>max_t_syd</th>\n",
       "      <th>max_t_bne</th>\n",
       "      <th>time_sin</th>\n",
       "      <th>time_cos</th>\n",
       "      <th>soi</th>\n",
       "      <th>year</th>\n",
       "    </tr>\n",
       "  </thead>\n",
       "  <tbody>\n",
       "    <tr>\n",
       "      <th>0</th>\n",
       "      <td>195.4</td>\n",
       "      <td>22.8</td>\n",
       "      <td>27.0</td>\n",
       "      <td>-0.849817</td>\n",
       "      <td>0.527078</td>\n",
       "      <td>22.4</td>\n",
       "      <td>2000</td>\n",
       "    </tr>\n",
       "    <tr>\n",
       "      <th>1</th>\n",
       "      <td>307.3</td>\n",
       "      <td>22.3</td>\n",
       "      <td>24.0</td>\n",
       "      <td>-0.840618</td>\n",
       "      <td>0.541628</td>\n",
       "      <td>22.4</td>\n",
       "      <td>2000</td>\n",
       "    </tr>\n",
       "    <tr>\n",
       "      <th>2</th>\n",
       "      <td>325.8</td>\n",
       "      <td>23.8</td>\n",
       "      <td>26.0</td>\n",
       "      <td>-0.831171</td>\n",
       "      <td>0.556017</td>\n",
       "      <td>22.4</td>\n",
       "      <td>2000</td>\n",
       "    </tr>\n",
       "    <tr>\n",
       "      <th>3</th>\n",
       "      <td>299.7</td>\n",
       "      <td>23.0</td>\n",
       "      <td>28.0</td>\n",
       "      <td>-0.821477</td>\n",
       "      <td>0.570242</td>\n",
       "      <td>22.4</td>\n",
       "      <td>2000</td>\n",
       "    </tr>\n",
       "    <tr>\n",
       "      <th>4</th>\n",
       "      <td>92.0</td>\n",
       "      <td>21.4</td>\n",
       "      <td>28.0</td>\n",
       "      <td>-0.811539</td>\n",
       "      <td>0.584298</td>\n",
       "      <td>22.4</td>\n",
       "      <td>2000</td>\n",
       "    </tr>\n",
       "    <tr>\n",
       "      <th>...</th>\n",
       "      <td>...</td>\n",
       "      <td>...</td>\n",
       "      <td>...</td>\n",
       "      <td>...</td>\n",
       "      <td>...</td>\n",
       "      <td>...</td>\n",
       "      <td>...</td>\n",
       "    </tr>\n",
       "    <tr>\n",
       "      <th>6830</th>\n",
       "      <td>312.8</td>\n",
       "      <td>20.4</td>\n",
       "      <td>21.3</td>\n",
       "      <td>-0.981306</td>\n",
       "      <td>0.192452</td>\n",
       "      <td>-5.6</td>\n",
       "      <td>2019</td>\n",
       "    </tr>\n",
       "    <tr>\n",
       "      <th>6831</th>\n",
       "      <td>225.6</td>\n",
       "      <td>19.2</td>\n",
       "      <td>25.3</td>\n",
       "      <td>-0.977848</td>\n",
       "      <td>0.209315</td>\n",
       "      <td>-5.6</td>\n",
       "      <td>2019</td>\n",
       "    </tr>\n",
       "    <tr>\n",
       "      <th>6832</th>\n",
       "      <td>346.0</td>\n",
       "      <td>21.9</td>\n",
       "      <td>25.9</td>\n",
       "      <td>-0.974100</td>\n",
       "      <td>0.226116</td>\n",
       "      <td>-5.6</td>\n",
       "      <td>2019</td>\n",
       "    </tr>\n",
       "    <tr>\n",
       "      <th>6833</th>\n",
       "      <td>232.1</td>\n",
       "      <td>24.0</td>\n",
       "      <td>27.2</td>\n",
       "      <td>-0.970064</td>\n",
       "      <td>0.242850</td>\n",
       "      <td>-5.6</td>\n",
       "      <td>2019</td>\n",
       "    </tr>\n",
       "    <tr>\n",
       "      <th>6834</th>\n",
       "      <td>206.2</td>\n",
       "      <td>23.0</td>\n",
       "      <td>28.6</td>\n",
       "      <td>-0.965740</td>\n",
       "      <td>0.259512</td>\n",
       "      <td>-5.6</td>\n",
       "      <td>2019</td>\n",
       "    </tr>\n",
       "  </tbody>\n",
       "</table>\n",
       "<p>6835 rows × 7 columns</p>\n",
       "</div>"
      ],
      "text/plain": [
       "       scan  max_t_syd  max_t_bne  time_sin  time_cos   soi  year\n",
       "0     195.4       22.8       27.0 -0.849817  0.527078  22.4  2000\n",
       "1     307.3       22.3       24.0 -0.840618  0.541628  22.4  2000\n",
       "2     325.8       23.8       26.0 -0.831171  0.556017  22.4  2000\n",
       "3     299.7       23.0       28.0 -0.821477  0.570242  22.4  2000\n",
       "4      92.0       21.4       28.0 -0.811539  0.584298  22.4  2000\n",
       "...     ...        ...        ...       ...       ...   ...   ...\n",
       "6830  312.8       20.4       21.3 -0.981306  0.192452  -5.6  2019\n",
       "6831  225.6       19.2       25.3 -0.977848  0.209315  -5.6  2019\n",
       "6832  346.0       21.9       25.9 -0.974100  0.226116  -5.6  2019\n",
       "6833  232.1       24.0       27.2 -0.970064  0.242850  -5.6  2019\n",
       "6834  206.2       23.0       28.6 -0.965740  0.259512  -5.6  2019\n",
       "\n",
       "[6835 rows x 7 columns]"
      ]
     },
     "execution_count": 142,
     "metadata": {},
     "output_type": "execute_result"
    }
   ],
   "source": [
    "# drop acq_date - it isn't required for the model.\n",
    "df = df.drop(columns=['acq_date'])\n",
    "df = df.sort_index()\n",
    "\n",
    "df"
   ]
  },
  {
   "cell_type": "code",
   "execution_count": 143,
   "id": "530d53a5",
   "metadata": {},
   "outputs": [
    {
     "data": {
      "text/html": [
       "<div>\n",
       "<style scoped>\n",
       "    .dataframe tbody tr th:only-of-type {\n",
       "        vertical-align: middle;\n",
       "    }\n",
       "\n",
       "    .dataframe tbody tr th {\n",
       "        vertical-align: top;\n",
       "    }\n",
       "\n",
       "    .dataframe thead th {\n",
       "        text-align: right;\n",
       "    }\n",
       "</style>\n",
       "<table border=\"1\" class=\"dataframe\">\n",
       "  <thead>\n",
       "    <tr style=\"text-align: right;\">\n",
       "      <th></th>\n",
       "      <th>scan</th>\n",
       "      <th>max_t_syd</th>\n",
       "      <th>max_t_bne</th>\n",
       "      <th>time_sin</th>\n",
       "      <th>time_cos</th>\n",
       "      <th>soi</th>\n",
       "      <th>year</th>\n",
       "    </tr>\n",
       "  </thead>\n",
       "  <tbody>\n",
       "    <tr>\n",
       "      <th>count</th>\n",
       "      <td>6835.000000</td>\n",
       "      <td>6835.000000</td>\n",
       "      <td>6835.000000</td>\n",
       "      <td>6835.000000</td>\n",
       "      <td>6835.000000</td>\n",
       "      <td>6835.000000</td>\n",
       "      <td>6835.000000</td>\n",
       "    </tr>\n",
       "    <tr>\n",
       "      <th>mean</th>\n",
       "      <td>205.932729</td>\n",
       "      <td>23.098654</td>\n",
       "      <td>26.631207</td>\n",
       "      <td>-0.003094</td>\n",
       "      <td>0.000129</td>\n",
       "      <td>0.016913</td>\n",
       "      <td>2009.833504</td>\n",
       "    </tr>\n",
       "    <tr>\n",
       "      <th>std</th>\n",
       "      <td>337.232707</td>\n",
       "      <td>4.455929</td>\n",
       "      <td>3.796224</td>\n",
       "      <td>0.706831</td>\n",
       "      <td>0.707479</td>\n",
       "      <td>9.994913</td>\n",
       "      <td>5.462412</td>\n",
       "    </tr>\n",
       "    <tr>\n",
       "      <th>min</th>\n",
       "      <td>1.000000</td>\n",
       "      <td>11.700000</td>\n",
       "      <td>12.600000</td>\n",
       "      <td>-0.999991</td>\n",
       "      <td>-0.999963</td>\n",
       "      <td>-28.600000</td>\n",
       "      <td>2000.000000</td>\n",
       "    </tr>\n",
       "    <tr>\n",
       "      <th>25%</th>\n",
       "      <td>35.800000</td>\n",
       "      <td>19.800000</td>\n",
       "      <td>23.800000</td>\n",
       "      <td>-0.705584</td>\n",
       "      <td>-0.708627</td>\n",
       "      <td>-7.000000</td>\n",
       "      <td>2005.000000</td>\n",
       "    </tr>\n",
       "    <tr>\n",
       "      <th>50%</th>\n",
       "      <td>84.900000</td>\n",
       "      <td>23.000000</td>\n",
       "      <td>26.900000</td>\n",
       "      <td>-0.008607</td>\n",
       "      <td>-0.012910</td>\n",
       "      <td>-1.100000</td>\n",
       "      <td>2010.000000</td>\n",
       "    </tr>\n",
       "    <tr>\n",
       "      <th>75%</th>\n",
       "      <td>225.400000</td>\n",
       "      <td>26.000000</td>\n",
       "      <td>29.300000</td>\n",
       "      <td>0.705584</td>\n",
       "      <td>0.714673</td>\n",
       "      <td>7.300000</td>\n",
       "      <td>2015.000000</td>\n",
       "    </tr>\n",
       "    <tr>\n",
       "      <th>max</th>\n",
       "      <td>5854.700000</td>\n",
       "      <td>45.800000</td>\n",
       "      <td>41.700000</td>\n",
       "      <td>0.999991</td>\n",
       "      <td>1.000000</td>\n",
       "      <td>27.100000</td>\n",
       "      <td>2019.000000</td>\n",
       "    </tr>\n",
       "  </tbody>\n",
       "</table>\n",
       "</div>"
      ],
      "text/plain": [
       "              scan    max_t_syd    max_t_bne     time_sin     time_cos  \\\n",
       "count  6835.000000  6835.000000  6835.000000  6835.000000  6835.000000   \n",
       "mean    205.932729    23.098654    26.631207    -0.003094     0.000129   \n",
       "std     337.232707     4.455929     3.796224     0.706831     0.707479   \n",
       "min       1.000000    11.700000    12.600000    -0.999991    -0.999963   \n",
       "25%      35.800000    19.800000    23.800000    -0.705584    -0.708627   \n",
       "50%      84.900000    23.000000    26.900000    -0.008607    -0.012910   \n",
       "75%     225.400000    26.000000    29.300000     0.705584     0.714673   \n",
       "max    5854.700000    45.800000    41.700000     0.999991     1.000000   \n",
       "\n",
       "               soi         year  \n",
       "count  6835.000000  6835.000000  \n",
       "mean      0.016913  2009.833504  \n",
       "std       9.994913     5.462412  \n",
       "min     -28.600000  2000.000000  \n",
       "25%      -7.000000  2005.000000  \n",
       "50%      -1.100000  2010.000000  \n",
       "75%       7.300000  2015.000000  \n",
       "max      27.100000  2019.000000  "
      ]
     },
     "execution_count": 143,
     "metadata": {},
     "output_type": "execute_result"
    }
   ],
   "source": [
    "df.describe()"
   ]
  },
  {
   "cell_type": "code",
   "execution_count": 144,
   "id": "24d40607",
   "metadata": {
    "execution": {
     "iopub.execute_input": "2023-07-14T10:59:55.866457Z",
     "iopub.status.busy": "2023-07-14T10:59:55.865033Z",
     "iopub.status.idle": "2023-07-14T10:59:55.873266Z",
     "shell.execute_reply": "2023-07-14T10:59:55.872443Z"
    },
    "papermill": {
     "duration": 0.015912,
     "end_time": "2023-07-14T10:59:55.875272",
     "exception": false,
     "start_time": "2023-07-14T10:59:55.859360",
     "status": "completed"
    },
    "tags": []
   },
   "outputs": [],
   "source": [
    "# Split into train/test\n",
    "\n",
    "train_dataset = df.sample(frac=0.8, random_state=0)\n",
    "test_dataset = df.drop(train_dataset.index)"
   ]
  },
  {
   "cell_type": "code",
   "execution_count": 145,
   "id": "cad0eaa9",
   "metadata": {},
   "outputs": [],
   "source": [
    "train_features = train_dataset.copy()\n",
    "test_features = test_dataset.copy()\n",
    "\n",
    "train_labels = train_features.pop('scan')\n",
    "test_labels = test_features.pop('scan')"
   ]
  },
  {
   "cell_type": "code",
   "execution_count": 146,
   "id": "8554c5c5",
   "metadata": {
    "execution": {
     "iopub.execute_input": "2023-07-14T10:59:55.920017Z",
     "iopub.status.busy": "2023-07-14T10:59:55.919759Z",
     "iopub.status.idle": "2023-07-14T11:00:03.762185Z",
     "shell.execute_reply": "2023-07-14T11:00:03.760122Z"
    },
    "papermill": {
     "duration": 7.855493,
     "end_time": "2023-07-14T11:00:03.769476",
     "exception": false,
     "start_time": "2023-07-14T10:59:55.913983",
     "status": "completed"
    },
    "tags": []
   },
   "outputs": [],
   "source": [
    "import tensorflow as tf\n",
    "\n",
    "# Disable GPU. GPU makes this particular model slower.\n",
    "tf.config.set_visible_devices([], 'GPU')"
   ]
  },
  {
   "cell_type": "code",
   "execution_count": 147,
   "id": "f06016b3",
   "metadata": {},
   "outputs": [],
   "source": [
    "normalizer = tf.keras.layers.Normalization(axis=-1) # update this if data changes.\n",
    "normalizer.adapt(np.array(train_features))"
   ]
  },
  {
   "cell_type": "code",
   "execution_count": 148,
   "id": "651c4563",
   "metadata": {},
   "outputs": [],
   "source": [
    "reduce_lr = tf.keras.callbacks.ReduceLROnPlateau(monitor='val_loss', factor=0.6,\n",
    "                              patience=1, min_delta=-1, min_lr=0.00000000001, verbose=1, mode=\"min\")"
   ]
  },
  {
   "cell_type": "code",
   "execution_count": 149,
   "id": "242b4ffc",
   "metadata": {},
   "outputs": [],
   "source": [
    "early_stopping = tf.keras.callbacks.EarlyStopping(monitor='val_loss', patience=20, verbose=1, min_delta=1)"
   ]
  },
  {
   "cell_type": "code",
   "execution_count": 150,
   "id": "411aebf9",
   "metadata": {},
   "outputs": [],
   "source": [
    "model_checkpoint_callback = tf.keras.callbacks.ModelCheckpoint(\n",
    "    filepath=\"./checkpoints/checkpoint\",\n",
    "    save_weights_only=True,\n",
    "    monitor=\"val_loss\",\n",
    "    mode=\"min\",\n",
    "    save_best_only=True,\n",
    ")"
   ]
  },
  {
   "cell_type": "code",
   "execution_count": 151,
   "id": "daad8d52",
   "metadata": {},
   "outputs": [],
   "source": [
    "# Custom loss to punish undershooting. Based on mean_squared_error.\n",
    "def custom_loss(y_true, y_pred):\n",
    "    error = y_true - y_pred\n",
    "    squared_error = tf.square(error)\n",
    "    undershoot_error = tf.square(tf.math.maximum(0.0, error)) / 2 # undershooting is 1.5x as bad as overshooting.\n",
    "    return tf.reduce_mean(squared_error + undershoot_error, axis=-1)"
   ]
  },
  {
   "cell_type": "code",
   "execution_count": 152,
   "id": "07b3e24a",
   "metadata": {
    "execution": {
     "iopub.execute_input": "2023-07-14T11:00:03.786346Z",
     "iopub.status.busy": "2023-07-14T11:00:03.785508Z",
     "iopub.status.idle": "2023-07-14T11:00:03.795634Z",
     "shell.execute_reply": "2023-07-14T11:00:03.794793Z"
    },
    "papermill": {
     "duration": 0.021355,
     "end_time": "2023-07-14T11:00:03.798319",
     "exception": false,
     "start_time": "2023-07-14T11:00:03.776964",
     "status": "completed"
    },
    "tags": []
   },
   "outputs": [],
   "source": [
    "# Utility function for the model\n",
    "def build_and_compile_model():\n",
    "    model = tf.keras.Sequential()\n",
    "    \n",
    "    model.add(normalizer)\n",
    "\n",
    "    for i in range(5):\n",
    "        model.add(tf.keras.layers.Dense(40, activation=\"relu\"))\n",
    "        \n",
    "    model.add(tf.keras.layers.Dense(1, activation=\"relu\"))\n",
    "\n",
    "    model.compile(loss=custom_loss, metrics=[\"mean_absolute_error\"], optimizer=tf.keras.optimizers.Adam(learning_rate=0.001))\n",
    "    return model"
   ]
  },
  {
   "cell_type": "code",
   "execution_count": 153,
   "id": "a2a470f9",
   "metadata": {},
   "outputs": [
    {
     "name": "stderr",
     "output_type": "stream",
     "text": [
      "WARNING:absl:At this time, the v2.11+ optimizer `tf.keras.optimizers.Adam` runs slowly on M1/M2 Macs, please use the legacy Keras optimizer instead, located at `tf.keras.optimizers.legacy.Adam`.\n",
      "WARNING:absl:There is a known slowdown when using v2.11+ Keras optimizers on M1/M2 Macs. Falling back to the legacy Keras optimizer, i.e., `tf.keras.optimizers.legacy.Adam`.\n"
     ]
    }
   ],
   "source": [
    "model = build_and_compile_model()"
   ]
  },
  {
   "cell_type": "code",
   "execution_count": 154,
   "id": "46ddc872",
   "metadata": {
    "execution": {
     "iopub.execute_input": "2023-07-14T11:00:03.840155Z",
     "iopub.status.busy": "2023-07-14T11:00:03.839753Z",
     "iopub.status.idle": "2023-07-14T11:03:09.510821Z",
     "shell.execute_reply": "2023-07-14T11:03:09.509768Z"
    },
    "papermill": {
     "duration": 185.681839,
     "end_time": "2023-07-14T11:03:09.513499",
     "exception": false,
     "start_time": "2023-07-14T11:00:03.831660",
     "status": "completed"
    },
    "tags": []
   },
   "outputs": [
    {
     "name": "stdout",
     "output_type": "stream",
     "text": [
      "Epoch 1/500\n"
     ]
    },
    {
     "name": "stdout",
     "output_type": "stream",
     "text": [
      "171/171 [==============================] - 0s 1ms/step - loss: 235731.7344 - mean_absolute_error: 205.8446 - val_loss: 227954.5625 - val_mean_absolute_error: 206.2852\n",
      "Epoch 2/500\n",
      "171/171 [==============================] - 0s 1ms/step - loss: 235731.7344 - mean_absolute_error: 205.8446 - val_loss: 227954.5625 - val_mean_absolute_error: 206.2852\n",
      "Epoch 3/500\n",
      "171/171 [==============================] - 0s 1ms/step - loss: 235731.7812 - mean_absolute_error: 205.8447 - val_loss: 227954.5625 - val_mean_absolute_error: 206.2852\n",
      "Epoch 4/500\n",
      "171/171 [==============================] - 0s 962us/step - loss: 235731.7969 - mean_absolute_error: 205.8446 - val_loss: 227954.5625 - val_mean_absolute_error: 206.2852\n",
      "Epoch 5/500\n",
      "171/171 [==============================] - 0s 1ms/step - loss: 235731.7500 - mean_absolute_error: 205.8446 - val_loss: 227954.5625 - val_mean_absolute_error: 206.2852\n",
      "Epoch 6/500\n",
      "171/171 [==============================] - 0s 953us/step - loss: 235731.7344 - mean_absolute_error: 205.8446 - val_loss: 227954.5625 - val_mean_absolute_error: 206.2852\n",
      "Epoch 7/500\n",
      "171/171 [==============================] - 0s 867us/step - loss: 235731.8281 - mean_absolute_error: 205.8445 - val_loss: 227954.5625 - val_mean_absolute_error: 206.2852\n",
      "Epoch 8/500\n",
      "171/171 [==============================] - 0s 873us/step - loss: 235731.7344 - mean_absolute_error: 205.8446 - val_loss: 227954.5625 - val_mean_absolute_error: 206.2852\n",
      "Epoch 9/500\n",
      "171/171 [==============================] - 0s 868us/step - loss: 235731.7812 - mean_absolute_error: 205.8446 - val_loss: 227954.5625 - val_mean_absolute_error: 206.2852\n",
      "Epoch 10/500\n",
      "171/171 [==============================] - 0s 849us/step - loss: 235731.7031 - mean_absolute_error: 205.8446 - val_loss: 227954.5625 - val_mean_absolute_error: 206.2852\n",
      "Epoch 11/500\n",
      "171/171 [==============================] - 0s 845us/step - loss: 235731.6562 - mean_absolute_error: 205.8446 - val_loss: 227954.5625 - val_mean_absolute_error: 206.2852\n",
      "Epoch 12/500\n",
      "171/171 [==============================] - 0s 893us/step - loss: 235731.7500 - mean_absolute_error: 205.8446 - val_loss: 227954.5625 - val_mean_absolute_error: 206.2852\n",
      "Epoch 13/500\n",
      "171/171 [==============================] - 0s 895us/step - loss: 235731.7500 - mean_absolute_error: 205.8447 - val_loss: 227954.5625 - val_mean_absolute_error: 206.2852\n",
      "Epoch 14/500\n",
      "171/171 [==============================] - 0s 866us/step - loss: 235731.7812 - mean_absolute_error: 205.8447 - val_loss: 227954.5625 - val_mean_absolute_error: 206.2852\n",
      "Epoch 15/500\n",
      "171/171 [==============================] - 0s 858us/step - loss: 235731.7812 - mean_absolute_error: 205.8446 - val_loss: 227954.5625 - val_mean_absolute_error: 206.2852\n",
      "Epoch 16/500\n",
      "171/171 [==============================] - 0s 873us/step - loss: 235731.7812 - mean_absolute_error: 205.8446 - val_loss: 227954.5625 - val_mean_absolute_error: 206.2852\n",
      "Epoch 17/500\n",
      "  1/171 [..............................] - ETA: 0s - loss: 124660.3906 - mean_absolute_error: 201.6625"
     ]
    },
    {
     "ename": "KeyboardInterrupt",
     "evalue": "",
     "output_type": "error",
     "traceback": [
      "\u001b[0;31m---------------------------------------------------------------------------\u001b[0m",
      "\u001b[0;31mKeyboardInterrupt\u001b[0m                         Traceback (most recent call last)",
      "Cell \u001b[0;32mIn[154], line 1\u001b[0m\n\u001b[0;32m----> 1\u001b[0m history \u001b[39m=\u001b[39m model\u001b[39m.\u001b[39;49mfit(\n\u001b[1;32m      2\u001b[0m     train_features,\n\u001b[1;32m      3\u001b[0m     train_labels,\n\u001b[1;32m      4\u001b[0m     validation_data\u001b[39m=\u001b[39;49m(test_features, test_labels),\n\u001b[1;32m      5\u001b[0m     verbose\u001b[39m=\u001b[39;49m\u001b[39m1\u001b[39;49m, epochs\u001b[39m=\u001b[39;49m\u001b[39m500\u001b[39;49m, callbacks\u001b[39m=\u001b[39;49m[early_stopping, model_checkpoint_callback])\n",
      "File \u001b[0;32m/Library/Frameworks/Python.framework/Versions/3.11/lib/python3.11/site-packages/keras/src/utils/traceback_utils.py:65\u001b[0m, in \u001b[0;36mfilter_traceback.<locals>.error_handler\u001b[0;34m(*args, **kwargs)\u001b[0m\n\u001b[1;32m     63\u001b[0m filtered_tb \u001b[39m=\u001b[39m \u001b[39mNone\u001b[39;00m\n\u001b[1;32m     64\u001b[0m \u001b[39mtry\u001b[39;00m:\n\u001b[0;32m---> 65\u001b[0m     \u001b[39mreturn\u001b[39;00m fn(\u001b[39m*\u001b[39;49margs, \u001b[39m*\u001b[39;49m\u001b[39m*\u001b[39;49mkwargs)\n\u001b[1;32m     66\u001b[0m \u001b[39mexcept\u001b[39;00m \u001b[39mException\u001b[39;00m \u001b[39mas\u001b[39;00m e:\n\u001b[1;32m     67\u001b[0m     filtered_tb \u001b[39m=\u001b[39m _process_traceback_frames(e\u001b[39m.\u001b[39m__traceback__)\n",
      "File \u001b[0;32m/Library/Frameworks/Python.framework/Versions/3.11/lib/python3.11/site-packages/keras/src/engine/training.py:1748\u001b[0m, in \u001b[0;36mModel.fit\u001b[0;34m(self, x, y, batch_size, epochs, verbose, callbacks, validation_split, validation_data, shuffle, class_weight, sample_weight, initial_epoch, steps_per_epoch, validation_steps, validation_batch_size, validation_freq, max_queue_size, workers, use_multiprocessing)\u001b[0m\n\u001b[1;32m   1746\u001b[0m logs \u001b[39m=\u001b[39m tmp_logs\n\u001b[1;32m   1747\u001b[0m end_step \u001b[39m=\u001b[39m step \u001b[39m+\u001b[39m data_handler\u001b[39m.\u001b[39mstep_increment\n\u001b[0;32m-> 1748\u001b[0m callbacks\u001b[39m.\u001b[39;49mon_train_batch_end(end_step, logs)\n\u001b[1;32m   1749\u001b[0m \u001b[39mif\u001b[39;00m \u001b[39mself\u001b[39m\u001b[39m.\u001b[39mstop_training:\n\u001b[1;32m   1750\u001b[0m     \u001b[39mbreak\u001b[39;00m\n",
      "File \u001b[0;32m/Library/Frameworks/Python.framework/Versions/3.11/lib/python3.11/site-packages/keras/src/callbacks.py:475\u001b[0m, in \u001b[0;36mCallbackList.on_train_batch_end\u001b[0;34m(self, batch, logs)\u001b[0m\n\u001b[1;32m    468\u001b[0m \u001b[39m\u001b[39m\u001b[39m\"\"\"Calls the `on_train_batch_end` methods of its callbacks.\u001b[39;00m\n\u001b[1;32m    469\u001b[0m \n\u001b[1;32m    470\u001b[0m \u001b[39mArgs:\u001b[39;00m\n\u001b[1;32m    471\u001b[0m \u001b[39m    batch: Integer, index of batch within the current epoch.\u001b[39;00m\n\u001b[1;32m    472\u001b[0m \u001b[39m    logs: Dict. Aggregated metric results up until this batch.\u001b[39;00m\n\u001b[1;32m    473\u001b[0m \u001b[39m\"\"\"\u001b[39;00m\n\u001b[1;32m    474\u001b[0m \u001b[39mif\u001b[39;00m \u001b[39mself\u001b[39m\u001b[39m.\u001b[39m_should_call_train_batch_hooks:\n\u001b[0;32m--> 475\u001b[0m     \u001b[39mself\u001b[39;49m\u001b[39m.\u001b[39;49m_call_batch_hook(ModeKeys\u001b[39m.\u001b[39;49mTRAIN, \u001b[39m\"\u001b[39;49m\u001b[39mend\u001b[39;49m\u001b[39m\"\u001b[39;49m, batch, logs\u001b[39m=\u001b[39;49mlogs)\n",
      "File \u001b[0;32m/Library/Frameworks/Python.framework/Versions/3.11/lib/python3.11/site-packages/keras/src/callbacks.py:322\u001b[0m, in \u001b[0;36mCallbackList._call_batch_hook\u001b[0;34m(self, mode, hook, batch, logs)\u001b[0m\n\u001b[1;32m    320\u001b[0m     \u001b[39mself\u001b[39m\u001b[39m.\u001b[39m_call_batch_begin_hook(mode, batch, logs)\n\u001b[1;32m    321\u001b[0m \u001b[39melif\u001b[39;00m hook \u001b[39m==\u001b[39m \u001b[39m\"\u001b[39m\u001b[39mend\u001b[39m\u001b[39m\"\u001b[39m:\n\u001b[0;32m--> 322\u001b[0m     \u001b[39mself\u001b[39;49m\u001b[39m.\u001b[39;49m_call_batch_end_hook(mode, batch, logs)\n\u001b[1;32m    323\u001b[0m \u001b[39melse\u001b[39;00m:\n\u001b[1;32m    324\u001b[0m     \u001b[39mraise\u001b[39;00m \u001b[39mValueError\u001b[39;00m(\n\u001b[1;32m    325\u001b[0m         \u001b[39mf\u001b[39m\u001b[39m\"\u001b[39m\u001b[39mUnrecognized hook: \u001b[39m\u001b[39m{\u001b[39;00mhook\u001b[39m}\u001b[39;00m\u001b[39m. \u001b[39m\u001b[39m\"\u001b[39m\n\u001b[1;32m    326\u001b[0m         \u001b[39m'\u001b[39m\u001b[39mExpected values are [\u001b[39m\u001b[39m\"\u001b[39m\u001b[39mbegin\u001b[39m\u001b[39m\"\u001b[39m\u001b[39m, \u001b[39m\u001b[39m\"\u001b[39m\u001b[39mend\u001b[39m\u001b[39m\"\u001b[39m\u001b[39m]\u001b[39m\u001b[39m'\u001b[39m\n\u001b[1;32m    327\u001b[0m     )\n",
      "File \u001b[0;32m/Library/Frameworks/Python.framework/Versions/3.11/lib/python3.11/site-packages/keras/src/callbacks.py:345\u001b[0m, in \u001b[0;36mCallbackList._call_batch_end_hook\u001b[0;34m(self, mode, batch, logs)\u001b[0m\n\u001b[1;32m    342\u001b[0m     batch_time \u001b[39m=\u001b[39m time\u001b[39m.\u001b[39mtime() \u001b[39m-\u001b[39m \u001b[39mself\u001b[39m\u001b[39m.\u001b[39m_batch_start_time\n\u001b[1;32m    343\u001b[0m     \u001b[39mself\u001b[39m\u001b[39m.\u001b[39m_batch_times\u001b[39m.\u001b[39mappend(batch_time)\n\u001b[0;32m--> 345\u001b[0m \u001b[39mself\u001b[39;49m\u001b[39m.\u001b[39;49m_call_batch_hook_helper(hook_name, batch, logs)\n\u001b[1;32m    347\u001b[0m \u001b[39mif\u001b[39;00m \u001b[39mlen\u001b[39m(\u001b[39mself\u001b[39m\u001b[39m.\u001b[39m_batch_times) \u001b[39m>\u001b[39m\u001b[39m=\u001b[39m \u001b[39mself\u001b[39m\u001b[39m.\u001b[39m_num_batches_for_timing_check:\n\u001b[1;32m    348\u001b[0m     end_hook_name \u001b[39m=\u001b[39m hook_name\n",
      "File \u001b[0;32m/Library/Frameworks/Python.framework/Versions/3.11/lib/python3.11/site-packages/keras/src/callbacks.py:393\u001b[0m, in \u001b[0;36mCallbackList._call_batch_hook_helper\u001b[0;34m(self, hook_name, batch, logs)\u001b[0m\n\u001b[1;32m    391\u001b[0m \u001b[39mfor\u001b[39;00m callback \u001b[39min\u001b[39;00m \u001b[39mself\u001b[39m\u001b[39m.\u001b[39mcallbacks:\n\u001b[1;32m    392\u001b[0m     hook \u001b[39m=\u001b[39m \u001b[39mgetattr\u001b[39m(callback, hook_name)\n\u001b[0;32m--> 393\u001b[0m     hook(batch, logs)\n\u001b[1;32m    395\u001b[0m \u001b[39mif\u001b[39;00m \u001b[39mself\u001b[39m\u001b[39m.\u001b[39m_check_timing:\n\u001b[1;32m    396\u001b[0m     \u001b[39mif\u001b[39;00m hook_name \u001b[39mnot\u001b[39;00m \u001b[39min\u001b[39;00m \u001b[39mself\u001b[39m\u001b[39m.\u001b[39m_hook_times:\n",
      "File \u001b[0;32m/Library/Frameworks/Python.framework/Versions/3.11/lib/python3.11/site-packages/keras/src/callbacks.py:1093\u001b[0m, in \u001b[0;36mProgbarLogger.on_train_batch_end\u001b[0;34m(self, batch, logs)\u001b[0m\n\u001b[1;32m   1092\u001b[0m \u001b[39mdef\u001b[39;00m \u001b[39mon_train_batch_end\u001b[39m(\u001b[39mself\u001b[39m, batch, logs\u001b[39m=\u001b[39m\u001b[39mNone\u001b[39;00m):\n\u001b[0;32m-> 1093\u001b[0m     \u001b[39mself\u001b[39;49m\u001b[39m.\u001b[39;49m_batch_update_progbar(batch, logs)\n",
      "File \u001b[0;32m/Library/Frameworks/Python.framework/Versions/3.11/lib/python3.11/site-packages/keras/src/callbacks.py:1169\u001b[0m, in \u001b[0;36mProgbarLogger._batch_update_progbar\u001b[0;34m(self, batch, logs)\u001b[0m\n\u001b[1;32m   1165\u001b[0m     \u001b[39mself\u001b[39m\u001b[39m.\u001b[39mseen \u001b[39m+\u001b[39m\u001b[39m=\u001b[39m add_seen\n\u001b[1;32m   1167\u001b[0m \u001b[39mif\u001b[39;00m \u001b[39mself\u001b[39m\u001b[39m.\u001b[39mverbose \u001b[39m==\u001b[39m \u001b[39m1\u001b[39m:\n\u001b[1;32m   1168\u001b[0m     \u001b[39m# Only block async when verbose = 1.\u001b[39;00m\n\u001b[0;32m-> 1169\u001b[0m     logs \u001b[39m=\u001b[39m tf_utils\u001b[39m.\u001b[39;49msync_to_numpy_or_python_type(logs)\n\u001b[1;32m   1170\u001b[0m     \u001b[39mself\u001b[39m\u001b[39m.\u001b[39mprogbar\u001b[39m.\u001b[39mupdate(\u001b[39mself\u001b[39m\u001b[39m.\u001b[39mseen, \u001b[39mlist\u001b[39m(logs\u001b[39m.\u001b[39mitems()), finalize\u001b[39m=\u001b[39m\u001b[39mFalse\u001b[39;00m)\n",
      "File \u001b[0;32m/Library/Frameworks/Python.framework/Versions/3.11/lib/python3.11/site-packages/keras/src/utils/tf_utils.py:694\u001b[0m, in \u001b[0;36msync_to_numpy_or_python_type\u001b[0;34m(tensors)\u001b[0m\n\u001b[1;32m    691\u001b[0m         \u001b[39mreturn\u001b[39;00m t\n\u001b[1;32m    692\u001b[0m     \u001b[39mreturn\u001b[39;00m t\u001b[39m.\u001b[39mitem() \u001b[39mif\u001b[39;00m np\u001b[39m.\u001b[39mndim(t) \u001b[39m==\u001b[39m \u001b[39m0\u001b[39m \u001b[39melse\u001b[39;00m t\n\u001b[0;32m--> 694\u001b[0m \u001b[39mreturn\u001b[39;00m tf\u001b[39m.\u001b[39;49mnest\u001b[39m.\u001b[39;49mmap_structure(_to_single_numpy_or_python_type, tensors)\n",
      "File \u001b[0;32m/Library/Frameworks/Python.framework/Versions/3.11/lib/python3.11/site-packages/tensorflow/python/util/nest.py:624\u001b[0m, in \u001b[0;36mmap_structure\u001b[0;34m(func, *structure, **kwargs)\u001b[0m\n\u001b[1;32m    538\u001b[0m \u001b[39m@tf_export\u001b[39m(\u001b[39m\"\u001b[39m\u001b[39mnest.map_structure\u001b[39m\u001b[39m\"\u001b[39m)\n\u001b[1;32m    539\u001b[0m \u001b[39mdef\u001b[39;00m \u001b[39mmap_structure\u001b[39m(func, \u001b[39m*\u001b[39mstructure, \u001b[39m*\u001b[39m\u001b[39m*\u001b[39mkwargs):\n\u001b[1;32m    540\u001b[0m \u001b[39m  \u001b[39m\u001b[39m\"\"\"Creates a new structure by applying `func` to each atom in `structure`.\u001b[39;00m\n\u001b[1;32m    541\u001b[0m \n\u001b[1;32m    542\u001b[0m \u001b[39m  Refer to [tf.nest](https://www.tensorflow.org/api_docs/python/tf/nest)\u001b[39;00m\n\u001b[0;32m   (...)\u001b[0m\n\u001b[1;32m    622\u001b[0m \u001b[39m    ValueError: If wrong keyword arguments are provided.\u001b[39;00m\n\u001b[1;32m    623\u001b[0m \u001b[39m  \"\"\"\u001b[39;00m\n\u001b[0;32m--> 624\u001b[0m   \u001b[39mreturn\u001b[39;00m nest_util\u001b[39m.\u001b[39;49mmap_structure(\n\u001b[1;32m    625\u001b[0m       nest_util\u001b[39m.\u001b[39;49mModality\u001b[39m.\u001b[39;49mCORE, func, \u001b[39m*\u001b[39;49mstructure, \u001b[39m*\u001b[39;49m\u001b[39m*\u001b[39;49mkwargs\n\u001b[1;32m    626\u001b[0m   )\n",
      "File \u001b[0;32m/Library/Frameworks/Python.framework/Versions/3.11/lib/python3.11/site-packages/tensorflow/python/util/nest_util.py:1054\u001b[0m, in \u001b[0;36mmap_structure\u001b[0;34m(modality, func, *structure, **kwargs)\u001b[0m\n\u001b[1;32m    957\u001b[0m \u001b[39m\u001b[39m\u001b[39m\"\"\"Creates a new structure by applying `func` to each atom in `structure`.\u001b[39;00m\n\u001b[1;32m    958\u001b[0m \n\u001b[1;32m    959\u001b[0m \u001b[39m- For Modality.CORE: Refer to\u001b[39;00m\n\u001b[0;32m   (...)\u001b[0m\n\u001b[1;32m   1051\u001b[0m \u001b[39m  ValueError: If wrong keyword arguments are provided.\u001b[39;00m\n\u001b[1;32m   1052\u001b[0m \u001b[39m\"\"\"\u001b[39;00m\n\u001b[1;32m   1053\u001b[0m \u001b[39mif\u001b[39;00m modality \u001b[39m==\u001b[39m Modality\u001b[39m.\u001b[39mCORE:\n\u001b[0;32m-> 1054\u001b[0m   \u001b[39mreturn\u001b[39;00m _tf_core_map_structure(func, \u001b[39m*\u001b[39;49mstructure, \u001b[39m*\u001b[39;49m\u001b[39m*\u001b[39;49mkwargs)\n\u001b[1;32m   1055\u001b[0m \u001b[39melif\u001b[39;00m modality \u001b[39m==\u001b[39m Modality\u001b[39m.\u001b[39mDATA:\n\u001b[1;32m   1056\u001b[0m   \u001b[39mreturn\u001b[39;00m _tf_data_map_structure(func, \u001b[39m*\u001b[39mstructure, \u001b[39m*\u001b[39m\u001b[39m*\u001b[39mkwargs)\n",
      "File \u001b[0;32m/Library/Frameworks/Python.framework/Versions/3.11/lib/python3.11/site-packages/tensorflow/python/util/nest_util.py:1094\u001b[0m, in \u001b[0;36m_tf_core_map_structure\u001b[0;34m(func, *structure, **kwargs)\u001b[0m\n\u001b[1;32m   1089\u001b[0m flat_structure \u001b[39m=\u001b[39m (_tf_core_flatten(s, expand_composites) \u001b[39mfor\u001b[39;00m s \u001b[39min\u001b[39;00m structure)\n\u001b[1;32m   1090\u001b[0m entries \u001b[39m=\u001b[39m \u001b[39mzip\u001b[39m(\u001b[39m*\u001b[39mflat_structure)\n\u001b[1;32m   1092\u001b[0m \u001b[39mreturn\u001b[39;00m _tf_core_pack_sequence_as(\n\u001b[1;32m   1093\u001b[0m     structure[\u001b[39m0\u001b[39m],\n\u001b[0;32m-> 1094\u001b[0m     [func(\u001b[39m*\u001b[39;49mx) \u001b[39mfor\u001b[39;49;00m x \u001b[39min\u001b[39;49;00m entries],\n\u001b[1;32m   1095\u001b[0m     expand_composites\u001b[39m=\u001b[39mexpand_composites,\n\u001b[1;32m   1096\u001b[0m )\n",
      "File \u001b[0;32m/Library/Frameworks/Python.framework/Versions/3.11/lib/python3.11/site-packages/tensorflow/python/util/nest_util.py:1094\u001b[0m, in \u001b[0;36m<listcomp>\u001b[0;34m(.0)\u001b[0m\n\u001b[1;32m   1089\u001b[0m flat_structure \u001b[39m=\u001b[39m (_tf_core_flatten(s, expand_composites) \u001b[39mfor\u001b[39;00m s \u001b[39min\u001b[39;00m structure)\n\u001b[1;32m   1090\u001b[0m entries \u001b[39m=\u001b[39m \u001b[39mzip\u001b[39m(\u001b[39m*\u001b[39mflat_structure)\n\u001b[1;32m   1092\u001b[0m \u001b[39mreturn\u001b[39;00m _tf_core_pack_sequence_as(\n\u001b[1;32m   1093\u001b[0m     structure[\u001b[39m0\u001b[39m],\n\u001b[0;32m-> 1094\u001b[0m     [func(\u001b[39m*\u001b[39;49mx) \u001b[39mfor\u001b[39;00m x \u001b[39min\u001b[39;00m entries],\n\u001b[1;32m   1095\u001b[0m     expand_composites\u001b[39m=\u001b[39mexpand_composites,\n\u001b[1;32m   1096\u001b[0m )\n",
      "File \u001b[0;32m/Library/Frameworks/Python.framework/Versions/3.11/lib/python3.11/site-packages/keras/src/utils/tf_utils.py:687\u001b[0m, in \u001b[0;36msync_to_numpy_or_python_type.<locals>._to_single_numpy_or_python_type\u001b[0;34m(t)\u001b[0m\n\u001b[1;32m    684\u001b[0m \u001b[39mdef\u001b[39;00m \u001b[39m_to_single_numpy_or_python_type\u001b[39m(t):\n\u001b[1;32m    685\u001b[0m     \u001b[39m# Don't turn ragged or sparse tensors to NumPy.\u001b[39;00m\n\u001b[1;32m    686\u001b[0m     \u001b[39mif\u001b[39;00m \u001b[39misinstance\u001b[39m(t, tf\u001b[39m.\u001b[39mTensor):\n\u001b[0;32m--> 687\u001b[0m         t \u001b[39m=\u001b[39m t\u001b[39m.\u001b[39;49mnumpy()\n\u001b[1;32m    688\u001b[0m     \u001b[39m# Strings, ragged and sparse tensors don't have .item(). Return them\u001b[39;00m\n\u001b[1;32m    689\u001b[0m     \u001b[39m# as-is.\u001b[39;00m\n\u001b[1;32m    690\u001b[0m     \u001b[39mif\u001b[39;00m \u001b[39mnot\u001b[39;00m \u001b[39misinstance\u001b[39m(t, (np\u001b[39m.\u001b[39mndarray, np\u001b[39m.\u001b[39mgeneric)):\n",
      "File \u001b[0;32m/Library/Frameworks/Python.framework/Versions/3.11/lib/python3.11/site-packages/tensorflow/python/framework/ops.py:1141\u001b[0m, in \u001b[0;36m_EagerTensorBase.numpy\u001b[0;34m(self)\u001b[0m\n\u001b[1;32m   1118\u001b[0m \u001b[39m\u001b[39m\u001b[39m\"\"\"Copy of the contents of this Tensor into a NumPy array or scalar.\u001b[39;00m\n\u001b[1;32m   1119\u001b[0m \n\u001b[1;32m   1120\u001b[0m \u001b[39mUnlike NumPy arrays, Tensors are immutable, so this method has to copy\u001b[39;00m\n\u001b[0;32m   (...)\u001b[0m\n\u001b[1;32m   1138\u001b[0m \u001b[39m    NumPy dtype.\u001b[39;00m\n\u001b[1;32m   1139\u001b[0m \u001b[39m\"\"\"\u001b[39;00m\n\u001b[1;32m   1140\u001b[0m \u001b[39m# TODO(slebedev): Consider avoiding a copy for non-CPU or remote tensors.\u001b[39;00m\n\u001b[0;32m-> 1141\u001b[0m maybe_arr \u001b[39m=\u001b[39m \u001b[39mself\u001b[39;49m\u001b[39m.\u001b[39;49m_numpy()  \u001b[39m# pylint: disable=protected-access\u001b[39;00m\n\u001b[1;32m   1142\u001b[0m \u001b[39mreturn\u001b[39;00m maybe_arr\u001b[39m.\u001b[39mcopy() \u001b[39mif\u001b[39;00m \u001b[39misinstance\u001b[39m(maybe_arr, np\u001b[39m.\u001b[39mndarray) \u001b[39melse\u001b[39;00m maybe_arr\n",
      "File \u001b[0;32m/Library/Frameworks/Python.framework/Versions/3.11/lib/python3.11/site-packages/tensorflow/python/framework/ops.py:1107\u001b[0m, in \u001b[0;36m_EagerTensorBase._numpy\u001b[0;34m(self)\u001b[0m\n\u001b[1;32m   1105\u001b[0m \u001b[39mdef\u001b[39;00m \u001b[39m_numpy\u001b[39m(\u001b[39mself\u001b[39m):\n\u001b[1;32m   1106\u001b[0m   \u001b[39mtry\u001b[39;00m:\n\u001b[0;32m-> 1107\u001b[0m     \u001b[39mreturn\u001b[39;00m \u001b[39mself\u001b[39;49m\u001b[39m.\u001b[39;49m_numpy_internal()\n\u001b[1;32m   1108\u001b[0m   \u001b[39mexcept\u001b[39;00m core\u001b[39m.\u001b[39m_NotOkStatusException \u001b[39mas\u001b[39;00m e:  \u001b[39m# pylint: disable=protected-access\u001b[39;00m\n\u001b[1;32m   1109\u001b[0m     \u001b[39mraise\u001b[39;00m core\u001b[39m.\u001b[39m_status_to_exception(e) \u001b[39mfrom\u001b[39;00m \u001b[39mNone\u001b[39;00m\n",
      "\u001b[0;31mKeyboardInterrupt\u001b[0m: "
     ]
    }
   ],
   "source": [
    "history = model.fit(\n",
    "    train_features,\n",
    "    train_labels,\n",
    "    validation_data=(test_features, test_labels),\n",
    "    verbose=1, epochs=500, callbacks=[early_stopping, model_checkpoint_callback])"
   ]
  },
  {
   "cell_type": "code",
   "execution_count": null,
   "id": "71445bc6",
   "metadata": {
    "execution": {
     "iopub.execute_input": "2023-07-14T11:00:03.814370Z",
     "iopub.status.busy": "2023-07-14T11:00:03.813996Z",
     "iopub.status.idle": "2023-07-14T11:00:03.820236Z",
     "shell.execute_reply": "2023-07-14T11:00:03.819378Z"
    },
    "papermill": {
     "duration": 0.018814,
     "end_time": "2023-07-14T11:00:03.824391",
     "exception": false,
     "start_time": "2023-07-14T11:00:03.805577",
     "status": "completed"
    },
    "tags": []
   },
   "outputs": [],
   "source": [
    "# Utility function for plotting loss\n",
    "import matplotlib.pyplot as plt\n",
    "\n",
    "def plot_loss(history):\n",
    "    plt.plot(history.history['mean_absolute_error'], label='loss')\n",
    "    plt.plot(history.history['val_mean_absolute_error'], label='val_loss')\n",
    "    plt.xlabel('Epoch')\n",
    "    plt.ylabel('Error')\n",
    "    plt.legend()\n",
    "    plt.grid(True)"
   ]
  },
  {
   "cell_type": "code",
   "execution_count": null,
   "id": "c5f40cab",
   "metadata": {
    "execution": {
     "iopub.execute_input": "2023-07-14T11:03:09.554000Z",
     "iopub.status.busy": "2023-07-14T11:03:09.553721Z",
     "iopub.status.idle": "2023-07-14T11:03:09.926030Z",
     "shell.execute_reply": "2023-07-14T11:03:09.925062Z"
    },
    "papermill": {
     "duration": 0.380865,
     "end_time": "2023-07-14T11:03:09.928415",
     "exception": false,
     "start_time": "2023-07-14T11:03:09.547550",
     "status": "completed"
    },
    "tags": []
   },
   "outputs": [
    {
     "data": {
      "image/png": "[encoded data removed]",
      "text/plain": [
       "<Figure size 640x480 with 1 Axes>"
      ]
     },
     "metadata": {},
     "output_type": "display_data"
    }
   ],
   "source": [
    "plot_loss(history)"
   ]
  },
  {
   "cell_type": "code",
   "execution_count": null,
   "id": "1d015e61",
   "metadata": {},
   "outputs": [],
   "source": [
    "# Load best checkpoints\n",
    "model.load_weights(\"./checkpoints/checkpoint\")"
   ]
  },
  {
   "cell_type": "code",
   "execution_count": null,
   "id": "03db4f7b",
   "metadata": {
    "execution": {
     "iopub.execute_input": "2023-07-14T11:03:09.942433Z",
     "iopub.status.busy": "2023-07-14T11:03:09.941490Z",
     "iopub.status.idle": "2023-07-14T11:03:10.451556Z",
     "shell.execute_reply": "2023-07-14T11:03:10.449161Z"
    },
    "papermill": {
     "duration": 0.519329,
     "end_time": "2023-07-14T11:03:10.453757",
     "exception": false,
     "start_time": "2023-07-14T11:03:09.934428",
     "status": "completed"
    },
    "tags": []
   },
   "outputs": [
    {
     "name": "stdout",
     "output_type": "stream",
     "text": [
      "43/43 [==============================] - 0s 411us/step\n"
     ]
    },
    {
     "data": {
      "text/plain": [
       "<matplotlib.legend.Legend at 0x28d372bd0>"
      ]
     },
     "execution_count": 133,
     "metadata": {},
     "output_type": "execute_result"
    },
    {
     "data": {
      "image/png": "[encoded data removed]",
      "text/plain": [
       "<Figure size 640x480 with 1 Axes>"
      ]
     },
     "metadata": {},
     "output_type": "display_data"
    }
   ],
   "source": [
    "plt.plot(test_labels.reset_index()['scan'], label=\"Actual\")\n",
    "plt.plot(model.predict(test_features), label=\"Prediction\")\n",
    "plt.xlabel(\"Index\")\n",
    "plt.ylabel(\"Fire Scan Area\")\n",
    "plt.legend()"
   ]
  },
  {
   "cell_type": "code",
   "execution_count": null,
   "id": "ae7f0ca9",
   "metadata": {
    "execution": {
     "iopub.execute_input": "2023-07-14T11:03:10.560025Z",
     "iopub.status.busy": "2023-07-14T11:03:10.559734Z",
     "iopub.status.idle": "2023-07-14T11:03:10.599803Z",
     "shell.execute_reply": "2023-07-14T11:03:10.598893Z"
    },
    "papermill": {
     "duration": 0.051152,
     "end_time": "2023-07-14T11:03:10.602217",
     "exception": false,
     "start_time": "2023-07-14T11:03:10.551065",
     "status": "completed"
    },
    "tags": []
   },
   "outputs": [
    {
     "name": "stdout",
     "output_type": "stream",
     "text": [
      "INFO:tensorflow:Assets written to: ../model/model/assets\n"
     ]
    },
    {
     "name": "stderr",
     "output_type": "stream",
     "text": [
      "INFO:tensorflow:Assets written to: ../model/model/assets\n"
     ]
    },
    {
     "name": "stdout",
     "output_type": "stream",
     "text": [
      "Saved artifact at '../model/model'. The following endpoints are available:\n",
      "\n",
      "* Endpoint 'serve'\n",
      "  Args:\n",
      "    args_0: float32 Tensor, shape=(None, None)\n",
      "  Returns:\n",
      "    float32 Tensor, shape=(None, 1)\n",
      "6894\n"
     ]
    },
    {
     "data": {
      "text/plain": [
       "<keras.src.engine.sequential.Sequential at 0x28c6c1c90>"
      ]
     },
     "execution_count": 134,
     "metadata": {},
     "output_type": "execute_result"
    }
   ],
   "source": [
    "model.export(\"../model\")\n",
    "print(model.count_params())\n",
    "\n",
    "model"
   ]
  },
  {
   "cell_type": "markdown",
   "id": "51116ff0",
   "metadata": {},
   "source": [
    "Testing to see if loading models works."
   ]
  },
  {
   "cell_type": "code",
   "execution_count": null,
   "id": "4e8e4782",
   "metadata": {},
   "outputs": [
    {
     "data": {
      "text/plain": [
       "<tf.Tensor: shape=(1367, 1), dtype=float32, numpy=\n",
       "array([[234.29387],\n",
       "       [245.94716],\n",
       "       [285.65088],\n",
       "       ...,\n",
       "       [191.61444],\n",
       "       [195.9191 ],\n",
       "       [207.83162]], dtype=float32)>"
      ]
     },
     "execution_count": 135,
     "metadata": {},
     "output_type": "execute_result"
    }
   ],
   "source": [
    "loaded_model = tf.saved_model.load(\"../model\")\n",
    "\n",
    "predictions = loaded_model.serve(test_features)\n",
    "\n",
    "predictions"
   ]
  },
  {
   "cell_type": "code",
   "execution_count": null,
   "id": "f48a884a",
   "metadata": {},
   "outputs": [
    {
     "data": {
      "text/html": [
       "<div>\n",
       "<style scoped>\n",
       "    .dataframe tbody tr th:only-of-type {\n",
       "        vertical-align: middle;\n",
       "    }\n",
       "\n",
       "    .dataframe tbody tr th {\n",
       "        vertical-align: top;\n",
       "    }\n",
       "\n",
       "    .dataframe thead th {\n",
       "        text-align: right;\n",
       "    }\n",
       "</style>\n",
       "<table border=\"1\" class=\"dataframe\">\n",
       "  <thead>\n",
       "    <tr style=\"text-align: right;\">\n",
       "      <th></th>\n",
       "      <th>max_t_syd</th>\n",
       "      <th>max_t_bne</th>\n",
       "      <th>time_sin</th>\n",
       "      <th>time_cos</th>\n",
       "      <th>soi</th>\n",
       "      <th>year</th>\n",
       "    </tr>\n",
       "  </thead>\n",
       "  <tbody>\n",
       "    <tr>\n",
       "      <th>0</th>\n",
       "      <td>22.8</td>\n",
       "      <td>27.0</td>\n",
       "      <td>-0.849817</td>\n",
       "      <td>0.527078</td>\n",
       "      <td>22.4</td>\n",
       "      <td>2000</td>\n",
       "    </tr>\n",
       "    <tr>\n",
       "      <th>7</th>\n",
       "      <td>21.9</td>\n",
       "      <td>25.0</td>\n",
       "      <td>-0.780296</td>\n",
       "      <td>0.625411</td>\n",
       "      <td>22.4</td>\n",
       "      <td>2000</td>\n",
       "    </tr>\n",
       "    <tr>\n",
       "      <th>21</th>\n",
       "      <td>23.8</td>\n",
       "      <td>26.0</td>\n",
       "      <td>-0.608477</td>\n",
       "      <td>0.793572</td>\n",
       "      <td>22.4</td>\n",
       "      <td>2000</td>\n",
       "    </tr>\n",
       "    <tr>\n",
       "      <th>24</th>\n",
       "      <td>25.3</td>\n",
       "      <td>27.0</td>\n",
       "      <td>-0.566702</td>\n",
       "      <td>0.823923</td>\n",
       "      <td>22.4</td>\n",
       "      <td>2000</td>\n",
       "    </tr>\n",
       "    <tr>\n",
       "      <th>25</th>\n",
       "      <td>26.3</td>\n",
       "      <td>28.0</td>\n",
       "      <td>-0.552435</td>\n",
       "      <td>0.833556</td>\n",
       "      <td>22.4</td>\n",
       "      <td>2000</td>\n",
       "    </tr>\n",
       "    <tr>\n",
       "      <th>...</th>\n",
       "      <td>...</td>\n",
       "      <td>...</td>\n",
       "      <td>...</td>\n",
       "      <td>...</td>\n",
       "      <td>...</td>\n",
       "      <td>...</td>\n",
       "    </tr>\n",
       "    <tr>\n",
       "      <th>6812</th>\n",
       "      <td>20.7</td>\n",
       "      <td>24.9</td>\n",
       "      <td>-0.993257</td>\n",
       "      <td>-0.115935</td>\n",
       "      <td>-12.4</td>\n",
       "      <td>2019</td>\n",
       "    </tr>\n",
       "    <tr>\n",
       "      <th>6814</th>\n",
       "      <td>20.8</td>\n",
       "      <td>25.8</td>\n",
       "      <td>-0.996659</td>\n",
       "      <td>-0.081676</td>\n",
       "      <td>-12.4</td>\n",
       "      <td>2019</td>\n",
       "    </tr>\n",
       "    <tr>\n",
       "      <th>6815</th>\n",
       "      <td>25.3</td>\n",
       "      <td>26.9</td>\n",
       "      <td>-0.997917</td>\n",
       "      <td>-0.064508</td>\n",
       "      <td>-12.4</td>\n",
       "      <td>2019</td>\n",
       "    </tr>\n",
       "    <tr>\n",
       "      <th>6821</th>\n",
       "      <td>29.3</td>\n",
       "      <td>25.9</td>\n",
       "      <td>-0.999250</td>\n",
       "      <td>0.038722</td>\n",
       "      <td>-5.6</td>\n",
       "      <td>2019</td>\n",
       "    </tr>\n",
       "    <tr>\n",
       "      <th>6832</th>\n",
       "      <td>21.9</td>\n",
       "      <td>25.9</td>\n",
       "      <td>-0.974100</td>\n",
       "      <td>0.226116</td>\n",
       "      <td>-5.6</td>\n",
       "      <td>2019</td>\n",
       "    </tr>\n",
       "  </tbody>\n",
       "</table>\n",
       "<p>1367 rows × 6 columns</p>\n",
       "</div>"
      ],
      "text/plain": [
       "      max_t_syd  max_t_bne  time_sin  time_cos   soi  year\n",
       "0          22.8       27.0 -0.849817  0.527078  22.4  2000\n",
       "7          21.9       25.0 -0.780296  0.625411  22.4  2000\n",
       "21         23.8       26.0 -0.608477  0.793572  22.4  2000\n",
       "24         25.3       27.0 -0.566702  0.823923  22.4  2000\n",
       "25         26.3       28.0 -0.552435  0.833556  22.4  2000\n",
       "...         ...        ...       ...       ...   ...   ...\n",
       "6812       20.7       24.9 -0.993257 -0.115935 -12.4  2019\n",
       "6814       20.8       25.8 -0.996659 -0.081676 -12.4  2019\n",
       "6815       25.3       26.9 -0.997917 -0.064508 -12.4  2019\n",
       "6821       29.3       25.9 -0.999250  0.038722  -5.6  2019\n",
       "6832       21.9       25.9 -0.974100  0.226116  -5.6  2019\n",
       "\n",
       "[1367 rows x 6 columns]"
      ]
     },
     "execution_count": 136,
     "metadata": {},
     "output_type": "execute_result"
    }
   ],
   "source": [
    "test_features"
   ]
  },
  {
   "cell_type": "code",
   "execution_count": null,
   "id": "33c22c2c",
   "metadata": {},
   "outputs": [
    {
     "data": {
      "text/plain": [
       "<matplotlib.legend.Legend at 0x28827da90>"
      ]
     },
     "execution_count": 137,
     "metadata": {},
     "output_type": "execute_result"
    },
    {
     "data": {
      "image/png": "[encoded data removed]",
      "text/plain": [
       "<Figure size 640x480 with 1 Axes>"
      ]
     },
     "metadata": {},
     "output_type": "display_data"
    }
   ],
   "source": [
    "plt.plot(test_labels.reset_index()['scan'], label=\"Actual\")\n",
    "plt.plot(predictions, label=\"Prediction\")\n",
    "plt.xlabel(\"Index\")\n",
    "plt.ylabel(\"Fire Scan Area\")\n",
    "plt.legend()"
   ]
  }
 ],
 "metadata": {
  "kernelspec": {
   "display_name": "Python 3",
   "language": "python",
   "name": "python3"
  },
  "language_info": {
   "codemirror_mode": {
    "name": "ipython",
    "version": 3
   },
   "file_extension": ".py",
   "mimetype": "text/x-python",
   "name": "python",
   "nbconvert_exporter": "python",
   "pygments_lexer": "ipython3",
   "version": "3.11.3"
  },
  "papermill": {
   "default_parameters": {},
   "duration": 208.81189,
   "end_time": "2023-07-14T11:03:13.830046",
   "environment_variables": {},
   "exception": null,
   "input_path": "__notebook__.ipynb",
   "output_path": "__notebook__.ipynb",
   "parameters": {},
   "start_time": "2023-07-14T10:59:45.018156",
   "version": "2.4.0"
  }
 },
 "nbformat": 4,
 "nbformat_minor": 5
}
