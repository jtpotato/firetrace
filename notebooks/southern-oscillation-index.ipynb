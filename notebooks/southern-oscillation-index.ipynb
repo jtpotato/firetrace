{
 "cells": [
  {
   "cell_type": "markdown",
   "id": "198f547f",
   "metadata": {
    "papermill": {
     "duration": 0.002503,
     "end_time": "2023-06-23T05:35:46.684815",
     "exception": false,
     "start_time": "2023-06-23T05:35:46.682312",
     "status": "completed"
    },
    "tags": []
   },
   "source": [
    "# Southern Oscilation Index\n",
    "This notebook serves to prepare data obtained from the Bureau of Meteorology regarding the monthly values of the Southern Oscilation Index."
   ]
  },
  {
   "cell_type": "code",
   "execution_count": 1,
   "id": "e36e09f2",
   "metadata": {
    "execution": {
     "iopub.execute_input": "2023-06-23T05:35:46.691054Z",
     "iopub.status.busy": "2023-06-23T05:35:46.690053Z",
     "iopub.status.idle": "2023-06-23T05:35:46.743831Z",
     "shell.execute_reply": "2023-06-23T05:35:46.743163Z"
    },
    "papermill": {
     "duration": 0.059265,
     "end_time": "2023-06-23T05:35:46.746119",
     "exception": false,
     "start_time": "2023-06-23T05:35:46.686854",
     "status": "completed"
    },
    "tags": []
   },
   "outputs": [
    {
     "data": {
      "text/html": [
       "<div>\n",
       "<style scoped>\n",
       "    .dataframe tbody tr th:only-of-type {\n",
       "        vertical-align: middle;\n",
       "    }\n",
       "\n",
       "    .dataframe tbody tr th {\n",
       "        vertical-align: top;\n",
       "    }\n",
       "\n",
       "    .dataframe thead th {\n",
       "        text-align: right;\n",
       "    }\n",
       "</style>\n",
       "<table border=\"1\" class=\"dataframe\">\n",
       "  <thead>\n",
       "    <tr style=\"text-align: right;\">\n",
       "      <th></th>\n",
       "      <th>date</th>\n",
       "      <th>soi</th>\n",
       "    </tr>\n",
       "  </thead>\n",
       "  <tbody>\n",
       "    <tr>\n",
       "      <th>0</th>\n",
       "      <td>187601</td>\n",
       "      <td>11.3</td>\n",
       "    </tr>\n",
       "    <tr>\n",
       "      <th>1</th>\n",
       "      <td>187602</td>\n",
       "      <td>11.0</td>\n",
       "    </tr>\n",
       "    <tr>\n",
       "      <th>2</th>\n",
       "      <td>187603</td>\n",
       "      <td>0.2</td>\n",
       "    </tr>\n",
       "    <tr>\n",
       "      <th>3</th>\n",
       "      <td>187604</td>\n",
       "      <td>9.4</td>\n",
       "    </tr>\n",
       "    <tr>\n",
       "      <th>4</th>\n",
       "      <td>187605</td>\n",
       "      <td>6.8</td>\n",
       "    </tr>\n",
       "    <tr>\n",
       "      <th>...</th>\n",
       "      <td>...</td>\n",
       "      <td>...</td>\n",
       "    </tr>\n",
       "    <tr>\n",
       "      <th>1764</th>\n",
       "      <td>202301</td>\n",
       "      <td>11.8</td>\n",
       "    </tr>\n",
       "    <tr>\n",
       "      <th>1765</th>\n",
       "      <td>202302</td>\n",
       "      <td>10.5</td>\n",
       "    </tr>\n",
       "    <tr>\n",
       "      <th>1766</th>\n",
       "      <td>202303</td>\n",
       "      <td>-2.0</td>\n",
       "    </tr>\n",
       "    <tr>\n",
       "      <th>1767</th>\n",
       "      <td>202304</td>\n",
       "      <td>0.3</td>\n",
       "    </tr>\n",
       "    <tr>\n",
       "      <th>1768</th>\n",
       "      <td>202305</td>\n",
       "      <td>-18.5</td>\n",
       "    </tr>\n",
       "  </tbody>\n",
       "</table>\n",
       "<p>1769 rows × 2 columns</p>\n",
       "</div>"
      ],
      "text/plain": [
       "        date   soi\n",
       "0     187601  11.3\n",
       "1     187602  11.0\n",
       "2     187603   0.2\n",
       "3     187604   9.4\n",
       "4     187605   6.8\n",
       "...      ...   ...\n",
       "1764  202301  11.8\n",
       "1765  202302  10.5\n",
       "1766  202303  -2.0\n",
       "1767  202304   0.3\n",
       "1768  202305 -18.5\n",
       "\n",
       "[1769 rows x 2 columns]"
      ]
     },
     "execution_count": 1,
     "metadata": {},
     "output_type": "execute_result"
    }
   ],
   "source": [
    "import pandas as pd\n",
    "\n",
    "# read the csv file into a dataframe\n",
    "df = pd.read_csv(\"/kaggle/input/australian-bom-monthly-soi-values-jun-2023/monthly_soi.csv\", header=None, names=[\"date\", \"soi\"])\n",
    "\n",
    "df"
   ]
  },
  {
   "cell_type": "markdown",
   "id": "a9b5791d",
   "metadata": {
    "papermill": {
     "duration": 0.001845,
     "end_time": "2023-06-23T05:35:46.750240",
     "exception": false,
     "start_time": "2023-06-23T05:35:46.748395",
     "status": "completed"
    },
    "tags": []
   },
   "source": [
    "As the AI model we will train on this data is supposed to be used for forecasting, we cannot rely on precise measurements of the SOI to be avaliable. As a result, we classify the SOI into 3 discrete values for the AI model to use.\n",
    "\n",
    "- -1 stands for an SOI below -6. While the classification for El Nino and La Nina events is more complex, we decided that this value was suitable as an approximation for determining El Nino events.\n",
    "- 0 stands for an SOI between -6 and 6, which can be interpreted as an approximation for neutral events.\n",
    "- 1 stands for an SOI above 6, which can be interpreted as an approximation for La Nina events."
   ]
  },
  {
   "cell_type": "code",
   "execution_count": 2,
   "id": "16923dd5",
   "metadata": {
    "execution": {
     "iopub.execute_input": "2023-06-23T05:35:46.755981Z",
     "iopub.status.busy": "2023-06-23T05:35:46.755562Z",
     "iopub.status.idle": "2023-06-23T05:35:46.760883Z",
     "shell.execute_reply": "2023-06-23T05:35:46.759972Z"
    },
    "papermill": {
     "duration": 0.010328,
     "end_time": "2023-06-23T05:35:46.762573",
     "exception": false,
     "start_time": "2023-06-23T05:35:46.752245",
     "status": "completed"
    },
    "tags": []
   },
   "outputs": [],
   "source": [
    "def classify_soi(x):\n",
    "    if x < -6:\n",
    "        return -1\n",
    "    elif x > 6:\n",
    "        return 1\n",
    "    else:\n",
    "        return 0"
   ]
  },
  {
   "cell_type": "code",
   "execution_count": 3,
   "id": "fb4d0974",
   "metadata": {
    "execution": {
     "iopub.execute_input": "2023-06-23T05:35:46.768628Z",
     "iopub.status.busy": "2023-06-23T05:35:46.768282Z",
     "iopub.status.idle": "2023-06-23T05:35:46.784856Z",
     "shell.execute_reply": "2023-06-23T05:35:46.783517Z"
    },
    "papermill": {
     "duration": 0.022478,
     "end_time": "2023-06-23T05:35:46.787518",
     "exception": false,
     "start_time": "2023-06-23T05:35:46.765040",
     "status": "completed"
    },
    "tags": []
   },
   "outputs": [
    {
     "data": {
      "text/html": [
       "<div>\n",
       "<style scoped>\n",
       "    .dataframe tbody tr th:only-of-type {\n",
       "        vertical-align: middle;\n",
       "    }\n",
       "\n",
       "    .dataframe tbody tr th {\n",
       "        vertical-align: top;\n",
       "    }\n",
       "\n",
       "    .dataframe thead th {\n",
       "        text-align: right;\n",
       "    }\n",
       "</style>\n",
       "<table border=\"1\" class=\"dataframe\">\n",
       "  <thead>\n",
       "    <tr style=\"text-align: right;\">\n",
       "      <th></th>\n",
       "      <th>date</th>\n",
       "      <th>soi</th>\n",
       "      <th>soi_obsc</th>\n",
       "    </tr>\n",
       "  </thead>\n",
       "  <tbody>\n",
       "    <tr>\n",
       "      <th>0</th>\n",
       "      <td>187601</td>\n",
       "      <td>11.3</td>\n",
       "      <td>1</td>\n",
       "    </tr>\n",
       "    <tr>\n",
       "      <th>1</th>\n",
       "      <td>187602</td>\n",
       "      <td>11.0</td>\n",
       "      <td>1</td>\n",
       "    </tr>\n",
       "    <tr>\n",
       "      <th>2</th>\n",
       "      <td>187603</td>\n",
       "      <td>0.2</td>\n",
       "      <td>0</td>\n",
       "    </tr>\n",
       "    <tr>\n",
       "      <th>3</th>\n",
       "      <td>187604</td>\n",
       "      <td>9.4</td>\n",
       "      <td>1</td>\n",
       "    </tr>\n",
       "    <tr>\n",
       "      <th>4</th>\n",
       "      <td>187605</td>\n",
       "      <td>6.8</td>\n",
       "      <td>1</td>\n",
       "    </tr>\n",
       "    <tr>\n",
       "      <th>...</th>\n",
       "      <td>...</td>\n",
       "      <td>...</td>\n",
       "      <td>...</td>\n",
       "    </tr>\n",
       "    <tr>\n",
       "      <th>1764</th>\n",
       "      <td>202301</td>\n",
       "      <td>11.8</td>\n",
       "      <td>1</td>\n",
       "    </tr>\n",
       "    <tr>\n",
       "      <th>1765</th>\n",
       "      <td>202302</td>\n",
       "      <td>10.5</td>\n",
       "      <td>1</td>\n",
       "    </tr>\n",
       "    <tr>\n",
       "      <th>1766</th>\n",
       "      <td>202303</td>\n",
       "      <td>-2.0</td>\n",
       "      <td>0</td>\n",
       "    </tr>\n",
       "    <tr>\n",
       "      <th>1767</th>\n",
       "      <td>202304</td>\n",
       "      <td>0.3</td>\n",
       "      <td>0</td>\n",
       "    </tr>\n",
       "    <tr>\n",
       "      <th>1768</th>\n",
       "      <td>202305</td>\n",
       "      <td>-18.5</td>\n",
       "      <td>-1</td>\n",
       "    </tr>\n",
       "  </tbody>\n",
       "</table>\n",
       "<p>1769 rows × 3 columns</p>\n",
       "</div>"
      ],
      "text/plain": [
       "        date   soi  soi_obsc\n",
       "0     187601  11.3         1\n",
       "1     187602  11.0         1\n",
       "2     187603   0.2         0\n",
       "3     187604   9.4         1\n",
       "4     187605   6.8         1\n",
       "...      ...   ...       ...\n",
       "1764  202301  11.8         1\n",
       "1765  202302  10.5         1\n",
       "1766  202303  -2.0         0\n",
       "1767  202304   0.3         0\n",
       "1768  202305 -18.5        -1\n",
       "\n",
       "[1769 rows x 3 columns]"
      ]
     },
     "execution_count": 3,
     "metadata": {},
     "output_type": "execute_result"
    }
   ],
   "source": [
    "df[\"soi_obsc\"] = df[\"soi\"].apply(classify_soi)\n",
    "\n",
    "df"
   ]
  },
  {
   "cell_type": "code",
   "execution_count": 4,
   "id": "33dcc5d0",
   "metadata": {
    "execution": {
     "iopub.execute_input": "2023-06-23T05:35:46.794062Z",
     "iopub.status.busy": "2023-06-23T05:35:46.793713Z",
     "iopub.status.idle": "2023-06-23T05:35:46.808569Z",
     "shell.execute_reply": "2023-06-23T05:35:46.806963Z"
    },
    "papermill": {
     "duration": 0.021069,
     "end_time": "2023-06-23T05:35:46.811115",
     "exception": false,
     "start_time": "2023-06-23T05:35:46.790046",
     "status": "completed"
    },
    "tags": []
   },
   "outputs": [],
   "source": [
    "df.to_csv(\"/kaggle/working/monthly_soi.csv\")"
   ]
  }
 ],
 "metadata": {
  "kernelspec": {
   "display_name": "Python 3",
   "language": "python",
   "name": "python3"
  },
  "language_info": {
   "codemirror_mode": {
    "name": "ipython",
    "version": 3
   },
   "file_extension": ".py",
   "mimetype": "text/x-python",
   "name": "python",
   "nbconvert_exporter": "python",
   "pygments_lexer": "ipython3",
   "version": "3.10.10"
  },
  "papermill": {
   "default_parameters": {},
   "duration": 10.000462,
   "end_time": "2023-06-23T05:35:47.633359",
   "environment_variables": {},
   "exception": null,
   "input_path": "__notebook__.ipynb",
   "output_path": "__notebook__.ipynb",
   "parameters": {},
   "start_time": "2023-06-23T05:35:37.632897",
   "version": "2.4.0"
  }
 },
 "nbformat": 4,
 "nbformat_minor": 5
}
