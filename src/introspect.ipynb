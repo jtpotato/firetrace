{
 "cells": [
  {
   "cell_type": "code",
   "execution_count": 9,
   "metadata": {},
   "outputs": [],
   "source": [
    "import math\n",
    "import joblib\n",
    "import numpy as np\n",
    "import pandas as pd\n",
    "\n",
    "from training.FiretraceImport import FiretraceImport\n",
    "from training.load_model import load_model\n",
    "\n",
    "model, epochs, history = load_model(\"../models/firetrace_model.pt\")\n",
    "X_train, X_test, y_train, y_test = FiretraceImport(dataPath=\"../data\", modelPath=\"../models\")\n",
    "y_scaler = joblib.load(\"../models/y_scaler.save\")\n",
    "\n",
    "final_error_mse = history[0][-1]"
   ]
  },
  {
   "cell_type": "code",
   "execution_count": 10,
   "metadata": {},
   "outputs": [],
   "source": [
    "def scale_mse_to_kmsq(mse):\n",
    "  mae = math.sqrt(mse)\n",
    "  scaled_final_error = y_scaler.inverse_transform(np.array(mae).reshape(-1, 1))\n",
    "  return scaled_final_error[0][0]\n"
   ]
  },
  {
   "cell_type": "code",
   "execution_count": 11,
   "metadata": {},
   "outputs": [
    {
     "name": "stdout",
     "output_type": "stream",
     "text": [
      "430.47731498143054\n",
      "6250\n"
     ]
    }
   ],
   "source": [
    "print(scale_mse_to_kmsq(final_error_mse))\n",
    "print(epochs)"
   ]
  }
 ],
 "metadata": {
  "kernelspec": {
   "display_name": "Python 3",
   "language": "python",
   "name": "python3"
  },
  "language_info": {
   "codemirror_mode": {
    "name": "ipython",
    "version": 3
   },
   "file_extension": ".py",
   "mimetype": "text/x-python",
   "name": "python",
   "nbconvert_exporter": "python",
   "pygments_lexer": "ipython3",
   "version": "3.11.3"
  }
 },
 "nbformat": 4,
 "nbformat_minor": 2
}
